{
 "cells": [
  {
   "cell_type": "code",
   "execution_count": 1,
   "id": "d67a5b51",
   "metadata": {},
   "outputs": [],
   "source": [
    "import numpy as np\n",
    "import pandas as pd \n",
    "import tensorflow as tf"
   ]
  },
  {
   "cell_type": "code",
   "execution_count": 2,
   "id": "5cc96cd4",
   "metadata": {},
   "outputs": [],
   "source": [
    "from numba import cuda \n",
    "device = cuda.get_current_device()\n",
    "device.reset()"
   ]
  },
  {
   "cell_type": "code",
   "execution_count": 3,
   "id": "5967d659",
   "metadata": {},
   "outputs": [],
   "source": [
    "import os\n",
    "os.environ['KMP_DUPLICATE_LIB_OK']='True'"
   ]
  },
  {
   "cell_type": "code",
   "execution_count": 4,
   "id": "a0e3ba6e",
   "metadata": {},
   "outputs": [
    {
     "name": "stdout",
     "output_type": "stream",
     "text": [
      "[PhysicalDevice(name='/physical_device:GPU:0', device_type='GPU')]\n",
      "WARNING:tensorflow:From <ipython-input-4-1fea926ff29e>:4: get_memory_usage (from tensorflow.python.framework.config) is deprecated and will be removed in a future version.\n",
      "Instructions for updating:\n",
      "Use tf.config.experimental.get_memory_info(device)['current'] instead.\n",
      "0\n"
     ]
    }
   ],
   "source": [
    "gpu_devices = tf.config.list_physical_devices('GPU')\n",
    "print(gpu_devices)\n",
    "if gpu_devices:\n",
    "  print(tf.config.experimental.get_memory_usage('GPU:0'))"
   ]
  },
  {
   "cell_type": "code",
   "execution_count": 5,
   "id": "6c6f9cb9",
   "metadata": {},
   "outputs": [
    {
     "data": {
      "text/html": [
       "<div>\n",
       "<style scoped>\n",
       "    .dataframe tbody tr th:only-of-type {\n",
       "        vertical-align: middle;\n",
       "    }\n",
       "\n",
       "    .dataframe tbody tr th {\n",
       "        vertical-align: top;\n",
       "    }\n",
       "\n",
       "    .dataframe thead th {\n",
       "        text-align: right;\n",
       "    }\n",
       "</style>\n",
       "<table border=\"1\" class=\"dataframe\">\n",
       "  <thead>\n",
       "    <tr style=\"text-align: right;\">\n",
       "      <th></th>\n",
       "      <th>image_name</th>\n",
       "      <th>tags</th>\n",
       "    </tr>\n",
       "  </thead>\n",
       "  <tbody>\n",
       "    <tr>\n",
       "      <th>0</th>\n",
       "      <td>train_0</td>\n",
       "      <td>haze primary</td>\n",
       "    </tr>\n",
       "    <tr>\n",
       "      <th>1</th>\n",
       "      <td>train_1</td>\n",
       "      <td>agriculture clear primary water</td>\n",
       "    </tr>\n",
       "    <tr>\n",
       "      <th>2</th>\n",
       "      <td>train_2</td>\n",
       "      <td>clear primary</td>\n",
       "    </tr>\n",
       "    <tr>\n",
       "      <th>3</th>\n",
       "      <td>train_3</td>\n",
       "      <td>clear primary</td>\n",
       "    </tr>\n",
       "    <tr>\n",
       "      <th>4</th>\n",
       "      <td>train_4</td>\n",
       "      <td>agriculture clear habitation primary road</td>\n",
       "    </tr>\n",
       "  </tbody>\n",
       "</table>\n",
       "</div>"
      ],
      "text/plain": [
       "  image_name                                       tags\n",
       "0    train_0                               haze primary\n",
       "1    train_1            agriculture clear primary water\n",
       "2    train_2                              clear primary\n",
       "3    train_3                              clear primary\n",
       "4    train_4  agriculture clear habitation primary road"
      ]
     },
     "execution_count": 5,
     "metadata": {},
     "output_type": "execute_result"
    }
   ],
   "source": [
    "trainDF = pd.read_csv('train_v2.csv')\n",
    "trainDF.head()"
   ]
  },
  {
   "cell_type": "code",
   "execution_count": 53,
   "id": "f259ebed",
   "metadata": {},
   "outputs": [
    {
     "data": {
      "text/html": [
       "<div>\n",
       "<style scoped>\n",
       "    .dataframe tbody tr th:only-of-type {\n",
       "        vertical-align: middle;\n",
       "    }\n",
       "\n",
       "    .dataframe tbody tr th {\n",
       "        vertical-align: top;\n",
       "    }\n",
       "\n",
       "    .dataframe thead th {\n",
       "        text-align: right;\n",
       "    }\n",
       "</style>\n",
       "<table border=\"1\" class=\"dataframe\">\n",
       "  <thead>\n",
       "    <tr style=\"text-align: right;\">\n",
       "      <th></th>\n",
       "      <th>image_name</th>\n",
       "      <th>tags</th>\n",
       "    </tr>\n",
       "  </thead>\n",
       "  <tbody>\n",
       "    <tr>\n",
       "      <th>0</th>\n",
       "      <td>test_0.jpg</td>\n",
       "      <td>primary clear agriculture road water</td>\n",
       "    </tr>\n",
       "    <tr>\n",
       "      <th>1</th>\n",
       "      <td>test_1.jpg</td>\n",
       "      <td>primary clear agriculture road water</td>\n",
       "    </tr>\n",
       "    <tr>\n",
       "      <th>2</th>\n",
       "      <td>test_2.jpg</td>\n",
       "      <td>primary clear agriculture road water</td>\n",
       "    </tr>\n",
       "    <tr>\n",
       "      <th>3</th>\n",
       "      <td>test_3.jpg</td>\n",
       "      <td>primary clear agriculture road water</td>\n",
       "    </tr>\n",
       "    <tr>\n",
       "      <th>4</th>\n",
       "      <td>test_4.jpg</td>\n",
       "      <td>primary clear agriculture road water</td>\n",
       "    </tr>\n",
       "  </tbody>\n",
       "</table>\n",
       "</div>"
      ],
      "text/plain": [
       "   image_name                                  tags\n",
       "0  test_0.jpg  primary clear agriculture road water\n",
       "1  test_1.jpg  primary clear agriculture road water\n",
       "2  test_2.jpg  primary clear agriculture road water\n",
       "3  test_3.jpg  primary clear agriculture road water\n",
       "4  test_4.jpg  primary clear agriculture road water"
      ]
     },
     "execution_count": 53,
     "metadata": {},
     "output_type": "execute_result"
    }
   ],
   "source": [
    "submission= pd.read_csv('sample_submission_v2.csv')\n",
    "submission['image_name'] = submission['image_name']+\".jpg\"\n",
    "submission.head()"
   ]
  },
  {
   "cell_type": "code",
   "execution_count": 7,
   "id": "0130f2ac",
   "metadata": {},
   "outputs": [
    {
     "data": {
      "text/plain": [
       "['artisinal_mine',\n",
       " 'blooming',\n",
       " 'primary',\n",
       " 'cultivation',\n",
       " 'habitation',\n",
       " 'cloudy',\n",
       " 'road',\n",
       " 'conventional_mine',\n",
       " 'selective_logging',\n",
       " 'partly_cloudy',\n",
       " 'haze',\n",
       " 'agriculture',\n",
       " 'slash_burn',\n",
       " 'clear',\n",
       " 'blow_down',\n",
       " 'water',\n",
       " 'bare_ground']"
      ]
     },
     "execution_count": 7,
     "metadata": {},
     "output_type": "execute_result"
    }
   ],
   "source": [
    "parameters = set()\n",
    "\n",
    "tags = trainDF['tags']\n",
    "for i in tags:\n",
    "    #print(i)\n",
    "    sep = i.split()\n",
    "    for j in sep:\n",
    "        #print(j)\n",
    "        parameters.add(j)\n",
    "        \n",
    "parameters = list(parameters)\n",
    "parameters"
   ]
  },
  {
   "cell_type": "code",
   "execution_count": 8,
   "id": "9f0714a1",
   "metadata": {},
   "outputs": [
    {
     "data": {
      "text/html": [
       "<div>\n",
       "<style scoped>\n",
       "    .dataframe tbody tr th:only-of-type {\n",
       "        vertical-align: middle;\n",
       "    }\n",
       "\n",
       "    .dataframe tbody tr th {\n",
       "        vertical-align: top;\n",
       "    }\n",
       "\n",
       "    .dataframe thead th {\n",
       "        text-align: right;\n",
       "    }\n",
       "</style>\n",
       "<table border=\"1\" class=\"dataframe\">\n",
       "  <thead>\n",
       "    <tr style=\"text-align: right;\">\n",
       "      <th></th>\n",
       "      <th>image_name</th>\n",
       "      <th>tags</th>\n",
       "      <th>artisinal_mine</th>\n",
       "      <th>blooming</th>\n",
       "      <th>primary</th>\n",
       "      <th>cultivation</th>\n",
       "      <th>habitation</th>\n",
       "      <th>cloudy</th>\n",
       "      <th>road</th>\n",
       "      <th>conventional_mine</th>\n",
       "      <th>selective_logging</th>\n",
       "      <th>partly_cloudy</th>\n",
       "      <th>haze</th>\n",
       "      <th>agriculture</th>\n",
       "      <th>slash_burn</th>\n",
       "      <th>clear</th>\n",
       "      <th>blow_down</th>\n",
       "      <th>water</th>\n",
       "      <th>bare_ground</th>\n",
       "    </tr>\n",
       "  </thead>\n",
       "  <tbody>\n",
       "    <tr>\n",
       "      <th>0</th>\n",
       "      <td>train_0.jpg</td>\n",
       "      <td>haze primary</td>\n",
       "      <td>0</td>\n",
       "      <td>0</td>\n",
       "      <td>1</td>\n",
       "      <td>0</td>\n",
       "      <td>0</td>\n",
       "      <td>0</td>\n",
       "      <td>0</td>\n",
       "      <td>0</td>\n",
       "      <td>0</td>\n",
       "      <td>0</td>\n",
       "      <td>1</td>\n",
       "      <td>0</td>\n",
       "      <td>0</td>\n",
       "      <td>0</td>\n",
       "      <td>0</td>\n",
       "      <td>0</td>\n",
       "      <td>0</td>\n",
       "    </tr>\n",
       "    <tr>\n",
       "      <th>1</th>\n",
       "      <td>train_1.jpg</td>\n",
       "      <td>agriculture clear primary water</td>\n",
       "      <td>0</td>\n",
       "      <td>0</td>\n",
       "      <td>1</td>\n",
       "      <td>0</td>\n",
       "      <td>0</td>\n",
       "      <td>0</td>\n",
       "      <td>0</td>\n",
       "      <td>0</td>\n",
       "      <td>0</td>\n",
       "      <td>0</td>\n",
       "      <td>0</td>\n",
       "      <td>1</td>\n",
       "      <td>0</td>\n",
       "      <td>1</td>\n",
       "      <td>0</td>\n",
       "      <td>1</td>\n",
       "      <td>0</td>\n",
       "    </tr>\n",
       "    <tr>\n",
       "      <th>2</th>\n",
       "      <td>train_2.jpg</td>\n",
       "      <td>clear primary</td>\n",
       "      <td>0</td>\n",
       "      <td>0</td>\n",
       "      <td>1</td>\n",
       "      <td>0</td>\n",
       "      <td>0</td>\n",
       "      <td>0</td>\n",
       "      <td>0</td>\n",
       "      <td>0</td>\n",
       "      <td>0</td>\n",
       "      <td>0</td>\n",
       "      <td>0</td>\n",
       "      <td>0</td>\n",
       "      <td>0</td>\n",
       "      <td>1</td>\n",
       "      <td>0</td>\n",
       "      <td>0</td>\n",
       "      <td>0</td>\n",
       "    </tr>\n",
       "    <tr>\n",
       "      <th>3</th>\n",
       "      <td>train_3.jpg</td>\n",
       "      <td>clear primary</td>\n",
       "      <td>0</td>\n",
       "      <td>0</td>\n",
       "      <td>1</td>\n",
       "      <td>0</td>\n",
       "      <td>0</td>\n",
       "      <td>0</td>\n",
       "      <td>0</td>\n",
       "      <td>0</td>\n",
       "      <td>0</td>\n",
       "      <td>0</td>\n",
       "      <td>0</td>\n",
       "      <td>0</td>\n",
       "      <td>0</td>\n",
       "      <td>1</td>\n",
       "      <td>0</td>\n",
       "      <td>0</td>\n",
       "      <td>0</td>\n",
       "    </tr>\n",
       "    <tr>\n",
       "      <th>4</th>\n",
       "      <td>train_4.jpg</td>\n",
       "      <td>agriculture clear habitation primary road</td>\n",
       "      <td>0</td>\n",
       "      <td>0</td>\n",
       "      <td>1</td>\n",
       "      <td>0</td>\n",
       "      <td>1</td>\n",
       "      <td>0</td>\n",
       "      <td>1</td>\n",
       "      <td>0</td>\n",
       "      <td>0</td>\n",
       "      <td>0</td>\n",
       "      <td>0</td>\n",
       "      <td>1</td>\n",
       "      <td>0</td>\n",
       "      <td>1</td>\n",
       "      <td>0</td>\n",
       "      <td>0</td>\n",
       "      <td>0</td>\n",
       "    </tr>\n",
       "  </tbody>\n",
       "</table>\n",
       "</div>"
      ],
      "text/plain": [
       "    image_name                                       tags  artisinal_mine  \\\n",
       "0  train_0.jpg                               haze primary               0   \n",
       "1  train_1.jpg            agriculture clear primary water               0   \n",
       "2  train_2.jpg                              clear primary               0   \n",
       "3  train_3.jpg                              clear primary               0   \n",
       "4  train_4.jpg  agriculture clear habitation primary road               0   \n",
       "\n",
       "   blooming  primary  cultivation  habitation  cloudy  road  \\\n",
       "0         0        1            0           0       0     0   \n",
       "1         0        1            0           0       0     0   \n",
       "2         0        1            0           0       0     0   \n",
       "3         0        1            0           0       0     0   \n",
       "4         0        1            0           1       0     1   \n",
       "\n",
       "   conventional_mine  selective_logging  partly_cloudy  haze  agriculture  \\\n",
       "0                  0                  0              0     1            0   \n",
       "1                  0                  0              0     0            1   \n",
       "2                  0                  0              0     0            0   \n",
       "3                  0                  0              0     0            0   \n",
       "4                  0                  0              0     0            1   \n",
       "\n",
       "   slash_burn  clear  blow_down  water  bare_ground  \n",
       "0           0      0          0      0            0  \n",
       "1           0      1          0      1            0  \n",
       "2           0      1          0      0            0  \n",
       "3           0      1          0      0            0  \n",
       "4           0      1          0      0            0  "
      ]
     },
     "execution_count": 8,
     "metadata": {},
     "output_type": "execute_result"
    }
   ],
   "source": [
    "for tag in parameters:\n",
    "    trainDF[tag] = trainDF['tags'].apply(lambda x: 1 if tag in x.split() else 0)\n",
    "    \n",
    "trainDF['image_name'] = trainDF['image_name']+\".jpg\"\n",
    "trainDF.head()"
   ]
  },
  {
   "cell_type": "code",
   "execution_count": 9,
   "id": "a95dbcc4",
   "metadata": {},
   "outputs": [],
   "source": [
    "tagList = list(trainDF.columns[2:])"
   ]
  },
  {
   "cell_type": "code",
   "execution_count": 10,
   "id": "e4dcba6a",
   "metadata": {},
   "outputs": [],
   "source": [
    "from tensorflow.keras.models import Sequential\n",
    "from tensorflow.keras.optimizers import Adam\n",
    "from tensorflow.keras.layers import Dense, Conv2D, MaxPool2D , Flatten, BatchNormalization, Dropout\n",
    "from tensorflow.keras.callbacks import EarlyStopping, ModelCheckpoint"
   ]
  },
  {
   "cell_type": "code",
   "execution_count": 11,
   "id": "37528f16",
   "metadata": {},
   "outputs": [],
   "source": [
    "def fbeta(ytrue , ypred, beta=2, epsilon=1e-4):\n",
    "    beta_squared = beta**2\n",
    "\n",
    "    ytrue = tf.cast(ytrue, tf.float32)\n",
    "    ypred = tf.cast(tf.greater(tf.cast(ypred, tf.float32), tf.constant(0.5)), tf.float32)\n",
    "        \n",
    "    tp = tf.reduce_sum(ytrue * ypred, axis=1)\n",
    "    fp = tf.reduce_sum(ypred, axis=1) - tp\n",
    "    fn = tf.reduce_sum(ytrue, axis=1) - tp\n",
    "    \n",
    "    precision = tp/(tp+fp+epsilon)\n",
    "    recall = tp/(tp+fn+epsilon)\n",
    "    \n",
    "    fb = (1+beta_squared)*precision*recall / (beta_squared*precision + recall + epsilon)\n",
    "    return fb"
   ]
  },
  {
   "cell_type": "code",
   "execution_count": 12,
   "id": "e43c1aeb",
   "metadata": {},
   "outputs": [],
   "source": [
    "def multi_label_acc(ytrue , ypred, epsilon=1e-4):\n",
    "    \n",
    "    ytrue = tf.cast(ytrue, tf.float32)\n",
    "    ypred = tf.cast(tf.greater(tf.cast(ypred, tf.float32), tf.constant(0.5)), tf.float32)\n",
    "    \n",
    "    tp = tf.reduce_sum(ytrue * ypred, axis=1)\n",
    "    fp = tf.reduce_sum(ypred, axis=1) - tp\n",
    "    fn = tf.reduce_sum(ytrue, axis=1) - tp\n",
    "    \n",
    "    ytrue = tf.cast(ytrue, tf.bool)\n",
    "    ypred = tf.cast(ypred, tf.bool)\n",
    "    \n",
    "    tn = tf.reduce_sum(tf.cast(tf.logical_not(ytrue), tf.float32) * tf.cast(tf.logical_not(ypred), tf.float32),\\\n",
    "                       axis=1)\n",
    "    \n",
    "    return (tp+tn)/(tp+tn+fp+fn+epsilon)"
   ]
  },
  {
   "cell_type": "code",
   "execution_count": 13,
   "id": "051c5e34",
   "metadata": {},
   "outputs": [],
   "source": [
    "def build_model():\n",
    "    model = Sequential()\n",
    "    model.add(Conv2D(filters=128, kernel_size=3, input_shape=(64, 64, 3), padding=\"same\", activation=\"relu\"))\n",
    "    model.add(BatchNormalization())\n",
    "    model.add(Conv2D(filters= 64,kernel_size= 3,activation='relu',padding='same'))\n",
    "    model.add(MaxPool2D(pool_size=(2,2),strides=(2,2),padding='same'))\n",
    "    model.add(Dropout(0.2))\n",
    "    model.add(Flatten())\n",
    "    model.add(Dense(units = 128,activation='relu'))\n",
    "    model.add(Dropout(0.5))\n",
    "    model.add(Dense(units = 64,activation='relu'))\n",
    "    model.add(Dropout(0.5))\n",
    "    model.add(Dense(17, activation='sigmoid'))\n",
    "    opt = Adam()\n",
    "    model.compile(loss='binary_crossentropy', optimizer=opt, metrics=[multi_label_acc, fbeta])\n",
    "    \n",
    "    return model"
   ]
  },
  {
   "cell_type": "code",
   "execution_count": 14,
   "id": "09109e5f",
   "metadata": {},
   "outputs": [],
   "source": [
    "modelCP = ModelCheckpoint(filepath='model.hdf5',\n",
    "                          monitor='val_fbeta',\n",
    "                          mode='max', \n",
    "                          save_best_only=True, \n",
    "                          save_weights_only=True)"
   ]
  },
  {
   "cell_type": "code",
   "execution_count": 15,
   "id": "064ea2e6",
   "metadata": {},
   "outputs": [
    {
     "name": "stdout",
     "output_type": "stream",
     "text": [
      "Found 30360 validated image filenames.\n",
      "Found 10119 validated image filenames.\n"
     ]
    }
   ],
   "source": [
    "imageGenerator = tf.keras.preprocessing.image.ImageDataGenerator(rescale=1/255,validation_split=0.25)\n",
    "\n",
    "train_img = imageGenerator.flow_from_dataframe(dataframe=trainDF,\n",
    "                                               directory='train-jpg/', \n",
    "                                               x_col='image_name', \n",
    "                                               y_col=tagList,\n",
    "                                               target_size=(64, 64), \n",
    "                                               class_mode='raw', \n",
    "                                               seed=0, \n",
    "                                               batch_size=32, \n",
    "                                               subset='training')\n",
    "\n",
    "val_img = imageGenerator.flow_from_dataframe(dataframe=trainDF, \n",
    "                                             directory='train-jpg/', \n",
    "                                             x_col='image_name', \n",
    "                                             y_col=tagList,\n",
    "                                             target_size=(64, 64), \n",
    "                                             class_mode='raw', \n",
    "                                             seed=0, \n",
    "                                             batch_size=32, \n",
    "                                             subset='validation')"
   ]
  },
  {
   "cell_type": "code",
   "execution_count": 16,
   "id": "29373800",
   "metadata": {},
   "outputs": [],
   "source": [
    "step_train_size = int(np.ceil(train_img.samples / train_img.batch_size))\n",
    "step_val_size = int(np.ceil(val_img.samples / train_img.batch_size))"
   ]
  },
  {
   "cell_type": "code",
   "execution_count": 17,
   "id": "593538d5",
   "metadata": {},
   "outputs": [
    {
     "name": "stdout",
     "output_type": "stream",
     "text": [
      "Epoch 1/10\n",
      "949/949 [==============================] - 218s 224ms/step - loss: 0.2951 - multi_label_acc: 0.8900 - fbeta: 0.6243 - val_loss: 0.2146 - val_multi_label_acc: 0.9105 - val_fbeta: 0.6443\n",
      "Epoch 2/10\n",
      "949/949 [==============================] - 120s 127ms/step - loss: 0.2163 - multi_label_acc: 0.9133 - fbeta: 0.6715 - val_loss: 0.2356 - val_multi_label_acc: 0.9084 - val_fbeta: 0.6700\n",
      "Epoch 3/10\n",
      "949/949 [==============================] - 77s 81ms/step - loss: 0.1976 - multi_label_acc: 0.9214 - fbeta: 0.7134 - val_loss: 0.1911 - val_multi_label_acc: 0.9231 - val_fbeta: 0.7318\n",
      "Epoch 4/10\n",
      "949/949 [==============================] - 92s 96ms/step - loss: 0.1855 - multi_label_acc: 0.9271 - fbeta: 0.7382 - val_loss: 4.5573 - val_multi_label_acc: 0.8473 - val_fbeta: 0.4501\n",
      "Epoch 5/10\n",
      "949/949 [==============================] - 72s 75ms/step - loss: 0.1796 - multi_label_acc: 0.9298 - fbeta: 0.7517 - val_loss: 0.2460 - val_multi_label_acc: 0.9066 - val_fbeta: 0.6687\n",
      "Epoch 6/10\n",
      "949/949 [==============================] - 67s 71ms/step - loss: 0.1733 - multi_label_acc: 0.9323 - fbeta: 0.7628 - val_loss: 0.2012 - val_multi_label_acc: 0.9177 - val_fbeta: 0.7343\n",
      "Epoch 7/10\n",
      "949/949 [==============================] - 61s 65ms/step - loss: 0.1686 - multi_label_acc: 0.9337 - fbeta: 0.7677 - val_loss: 0.1628 - val_multi_label_acc: 0.9354 - val_fbeta: 0.7781\n",
      "Epoch 8/10\n",
      "949/949 [==============================] - 61s 64ms/step - loss: 0.1655 - multi_label_acc: 0.9348 - fbeta: 0.7746 - val_loss: 0.1700 - val_multi_label_acc: 0.9307 - val_fbeta: 0.7495\n",
      "Epoch 9/10\n",
      "949/949 [==============================] - 61s 64ms/step - loss: 0.1628 - multi_label_acc: 0.9355 - fbeta: 0.7781 - val_loss: 0.1570 - val_multi_label_acc: 0.9366 - val_fbeta: 0.7841\n",
      "Epoch 10/10\n",
      "949/949 [==============================] - 60s 64ms/step - loss: 0.1611 - multi_label_acc: 0.9363 - fbeta: 0.7808 - val_loss: 0.1616 - val_multi_label_acc: 0.9356 - val_fbeta: 0.7849\n"
     ]
    },
    {
     "data": {
      "text/plain": [
       "<keras.callbacks.History at 0x2239d471fd0>"
      ]
     },
     "execution_count": 17,
     "metadata": {},
     "output_type": "execute_result"
    }
   ],
   "source": [
    "model = build_model() \n",
    "\n",
    "model.fit(x=train_img, \n",
    "          steps_per_epoch=step_train_size, \n",
    "          validation_data=val_img, \n",
    "          validation_steps=step_val_size,\n",
    "          epochs=10, \n",
    "          callbacks=[modelCP])"
   ]
  },
  {
   "cell_type": "code",
   "execution_count": null,
   "id": "0a44b941",
   "metadata": {},
   "outputs": [],
   "source": []
  },
  {
   "cell_type": "code",
   "execution_count": 54,
   "id": "56a2ceb8",
   "metadata": {},
   "outputs": [
    {
     "data": {
      "text/html": [
       "<div>\n",
       "<style scoped>\n",
       "    .dataframe tbody tr th:only-of-type {\n",
       "        vertical-align: middle;\n",
       "    }\n",
       "\n",
       "    .dataframe tbody tr th {\n",
       "        vertical-align: top;\n",
       "    }\n",
       "\n",
       "    .dataframe thead th {\n",
       "        text-align: right;\n",
       "    }\n",
       "</style>\n",
       "<table border=\"1\" class=\"dataframe\">\n",
       "  <thead>\n",
       "    <tr style=\"text-align: right;\">\n",
       "      <th></th>\n",
       "      <th>image_name</th>\n",
       "    </tr>\n",
       "  </thead>\n",
       "  <tbody>\n",
       "    <tr>\n",
       "      <th>0</th>\n",
       "      <td>test_0.jpg</td>\n",
       "    </tr>\n",
       "    <tr>\n",
       "      <th>1</th>\n",
       "      <td>test_1.jpg</td>\n",
       "    </tr>\n",
       "    <tr>\n",
       "      <th>2</th>\n",
       "      <td>test_2.jpg</td>\n",
       "    </tr>\n",
       "    <tr>\n",
       "      <th>3</th>\n",
       "      <td>test_3.jpg</td>\n",
       "    </tr>\n",
       "    <tr>\n",
       "      <th>4</th>\n",
       "      <td>test_4.jpg</td>\n",
       "    </tr>\n",
       "  </tbody>\n",
       "</table>\n",
       "</div>"
      ],
      "text/plain": [
       "   image_name\n",
       "0  test_0.jpg\n",
       "1  test_1.jpg\n",
       "2  test_2.jpg\n",
       "3  test_3.jpg\n",
       "4  test_4.jpg"
      ]
     },
     "execution_count": 54,
     "metadata": {},
     "output_type": "execute_result"
    }
   ],
   "source": [
    "test_df = submission.iloc[:40669]['image_name'].reset_index().drop('index', axis=1)\n",
    "test_df.head()"
   ]
  },
  {
   "cell_type": "code",
   "execution_count": null,
   "id": "2cb9f338",
   "metadata": {},
   "outputs": [],
   "source": []
  },
  {
   "cell_type": "code",
   "execution_count": 44,
   "id": "64142134",
   "metadata": {},
   "outputs": [
    {
     "name": "stdout",
     "output_type": "stream",
     "text": [
      "Found 40669 validated image filenames.\n"
     ]
    }
   ],
   "source": [
    "testGenerator = tf.keras.preprocessing.image.ImageDataGenerator(rescale=1/255)\n",
    "\n",
    "testImages = testGenerator.flow_from_dataframe(dataframe=test_df,\n",
    "                                               directory='test-jpg/', \n",
    "                                               x_col='image_name',\n",
    "                                               y_col = None,\n",
    "                                               batch_size=32, \n",
    "                                               class_mode=None, \n",
    "                                               target_size=(64, 64))\n",
    "\n",
    "testStepSize = int(np.ceil(testImages.samples / testImages.batch_size))"
   ]
  },
  {
   "cell_type": "code",
   "execution_count": 45,
   "id": "c62523ed",
   "metadata": {},
   "outputs": [
    {
     "name": "stdout",
     "output_type": "stream",
     "text": [
      "1271/1271 [==============================] - 228s 180ms/step\n"
     ]
    }
   ],
   "source": [
    "pred_Test = model.predict(testImages, steps=testStepSize, verbose=1)"
   ]
  },
  {
   "cell_type": "code",
   "execution_count": 69,
   "id": "a24df7d3",
   "metadata": {},
   "outputs": [
    {
     "data": {
      "text/html": [
       "<div>\n",
       "<style scoped>\n",
       "    .dataframe tbody tr th:only-of-type {\n",
       "        vertical-align: middle;\n",
       "    }\n",
       "\n",
       "    .dataframe tbody tr th {\n",
       "        vertical-align: top;\n",
       "    }\n",
       "\n",
       "    .dataframe thead th {\n",
       "        text-align: right;\n",
       "    }\n",
       "</style>\n",
       "<table border=\"1\" class=\"dataframe\">\n",
       "  <thead>\n",
       "    <tr style=\"text-align: right;\">\n",
       "      <th></th>\n",
       "      <th>image_name</th>\n",
       "      <th>tags</th>\n",
       "    </tr>\n",
       "  </thead>\n",
       "  <tbody>\n",
       "    <tr>\n",
       "      <th>0</th>\n",
       "      <td>test_0.jpg</td>\n",
       "      <td>primary partly_cloudy agriculture</td>\n",
       "    </tr>\n",
       "    <tr>\n",
       "      <th>1</th>\n",
       "      <td>test_1.jpg</td>\n",
       "      <td>primary clear</td>\n",
       "    </tr>\n",
       "    <tr>\n",
       "      <th>2</th>\n",
       "      <td>test_2.jpg</td>\n",
       "      <td>primary partly_cloudy</td>\n",
       "    </tr>\n",
       "    <tr>\n",
       "      <th>3</th>\n",
       "      <td>test_3.jpg</td>\n",
       "      <td>primary clear</td>\n",
       "    </tr>\n",
       "    <tr>\n",
       "      <th>4</th>\n",
       "      <td>test_4.jpg</td>\n",
       "      <td>primary clear</td>\n",
       "    </tr>\n",
       "  </tbody>\n",
       "</table>\n",
       "</div>"
      ],
      "text/plain": [
       "   image_name                               tags\n",
       "0  test_0.jpg  primary partly_cloudy agriculture\n",
       "1  test_1.jpg                      primary clear\n",
       "2  test_2.jpg              primary partly_cloudy\n",
       "3  test_3.jpg                      primary clear\n",
       "4  test_4.jpg                      primary clear"
      ]
     },
     "execution_count": 69,
     "metadata": {},
     "output_type": "execute_result"
    }
   ],
   "source": [
    "testNames = testImages.filenames \n",
    "        \n",
    "res1 = pd.DataFrame(pred_Test)\n",
    "res1 = res1.apply(lambda x: ' '.join(np.array(parameters)[x > 0.4]), axis=1)\n",
    "\n",
    "ans1 = pd.DataFrame({'image_name': testNames, 'tags': res1})\n",
    "ans1.head()"
   ]
  },
  {
   "cell_type": "code",
   "execution_count": 70,
   "id": "c6f41e3a",
   "metadata": {},
   "outputs": [
    {
     "data": {
      "text/html": [
       "<div>\n",
       "<style scoped>\n",
       "    .dataframe tbody tr th:only-of-type {\n",
       "        vertical-align: middle;\n",
       "    }\n",
       "\n",
       "    .dataframe tbody tr th {\n",
       "        vertical-align: top;\n",
       "    }\n",
       "\n",
       "    .dataframe thead th {\n",
       "        text-align: right;\n",
       "    }\n",
       "</style>\n",
       "<table border=\"1\" class=\"dataframe\">\n",
       "  <thead>\n",
       "    <tr style=\"text-align: right;\">\n",
       "      <th></th>\n",
       "      <th>image_name</th>\n",
       "    </tr>\n",
       "  </thead>\n",
       "  <tbody>\n",
       "    <tr>\n",
       "      <th>0</th>\n",
       "      <td>file_0.jpg</td>\n",
       "    </tr>\n",
       "    <tr>\n",
       "      <th>1</th>\n",
       "      <td>file_1.jpg</td>\n",
       "    </tr>\n",
       "    <tr>\n",
       "      <th>2</th>\n",
       "      <td>file_10.jpg</td>\n",
       "    </tr>\n",
       "    <tr>\n",
       "      <th>3</th>\n",
       "      <td>file_100.jpg</td>\n",
       "    </tr>\n",
       "    <tr>\n",
       "      <th>4</th>\n",
       "      <td>file_1000.jpg</td>\n",
       "    </tr>\n",
       "  </tbody>\n",
       "</table>\n",
       "</div>"
      ],
      "text/plain": [
       "      image_name\n",
       "0     file_0.jpg\n",
       "1     file_1.jpg\n",
       "2    file_10.jpg\n",
       "3   file_100.jpg\n",
       "4  file_1000.jpg"
      ]
     },
     "execution_count": 70,
     "metadata": {},
     "output_type": "execute_result"
    }
   ],
   "source": [
    "additional_df = submission.iloc[40669:]['image_name'].reset_index().drop('index', axis=1)\n",
    "additional_df.head()"
   ]
  },
  {
   "cell_type": "code",
   "execution_count": 71,
   "id": "39c3dc22",
   "metadata": {},
   "outputs": [
    {
     "name": "stdout",
     "output_type": "stream",
     "text": [
      "Found 20522 validated image filenames.\n"
     ]
    }
   ],
   "source": [
    "testAdditional = testGenerator.flow_from_dataframe(dataframe=additional_df,\n",
    "                                                   directory='test-jpg-additional/', \n",
    "                                                   x_col='image_name',\n",
    "                                                   y_col = None,\n",
    "                                                   batch_size=32,\n",
    "                                                   class_mode=None, \n",
    "                                                   target_size=(64, 64))\n",
    "\n",
    "additionalStepSize = int(np.ceil(testAdditional.samples / testAdditional.batch_size))"
   ]
  },
  {
   "cell_type": "code",
   "execution_count": 58,
   "id": "b77b5bf9",
   "metadata": {},
   "outputs": [
    {
     "name": "stdout",
     "output_type": "stream",
     "text": [
      "642/642 [==============================] - 114s 178ms/step\n"
     ]
    }
   ],
   "source": [
    "pred_Add = model.predict(testAdditional, steps=additionalStepSize, verbose=1)"
   ]
  },
  {
   "cell_type": "code",
   "execution_count": 72,
   "id": "ddbf2dc5",
   "metadata": {},
   "outputs": [
    {
     "data": {
      "text/html": [
       "<div>\n",
       "<style scoped>\n",
       "    .dataframe tbody tr th:only-of-type {\n",
       "        vertical-align: middle;\n",
       "    }\n",
       "\n",
       "    .dataframe tbody tr th {\n",
       "        vertical-align: top;\n",
       "    }\n",
       "\n",
       "    .dataframe thead th {\n",
       "        text-align: right;\n",
       "    }\n",
       "</style>\n",
       "<table border=\"1\" class=\"dataframe\">\n",
       "  <thead>\n",
       "    <tr style=\"text-align: right;\">\n",
       "      <th></th>\n",
       "      <th>image_name</th>\n",
       "      <th>tags</th>\n",
       "    </tr>\n",
       "  </thead>\n",
       "  <tbody>\n",
       "    <tr>\n",
       "      <th>0</th>\n",
       "      <td>file_0.jpg</td>\n",
       "      <td>primary clear</td>\n",
       "    </tr>\n",
       "    <tr>\n",
       "      <th>1</th>\n",
       "      <td>file_1.jpg</td>\n",
       "      <td>primary road agriculture clear</td>\n",
       "    </tr>\n",
       "    <tr>\n",
       "      <th>2</th>\n",
       "      <td>file_10.jpg</td>\n",
       "      <td>primary clear</td>\n",
       "    </tr>\n",
       "    <tr>\n",
       "      <th>3</th>\n",
       "      <td>file_100.jpg</td>\n",
       "      <td>primary agriculture clear</td>\n",
       "    </tr>\n",
       "    <tr>\n",
       "      <th>4</th>\n",
       "      <td>file_1000.jpg</td>\n",
       "      <td>primary clear</td>\n",
       "    </tr>\n",
       "  </tbody>\n",
       "</table>\n",
       "</div>"
      ],
      "text/plain": [
       "      image_name                            tags\n",
       "0     file_0.jpg                   primary clear\n",
       "1     file_1.jpg  primary road agriculture clear\n",
       "2    file_10.jpg                   primary clear\n",
       "3   file_100.jpg       primary agriculture clear\n",
       "4  file_1000.jpg                   primary clear"
      ]
     },
     "execution_count": 72,
     "metadata": {},
     "output_type": "execute_result"
    }
   ],
   "source": [
    "additionalNames = testAdditional.filenames \n",
    "        \n",
    "res2 = pd.DataFrame(pred_Add)\n",
    "res2 = res2.apply(lambda x: ' '.join(np.array(parameters)[x > 0.4]), axis=1)\n",
    "\n",
    "ans2 = pd.DataFrame({'image_name': additionalNames, 'tags': res2})\n",
    "ans2.head()"
   ]
  },
  {
   "cell_type": "code",
   "execution_count": null,
   "id": "0aa65082",
   "metadata": {},
   "outputs": [],
   "source": []
  },
  {
   "cell_type": "code",
   "execution_count": 73,
   "id": "53b4c0ba",
   "metadata": {},
   "outputs": [
    {
     "name": "stdout",
     "output_type": "stream",
     "text": [
      "(61191, 2)\n"
     ]
    },
    {
     "data": {
      "text/html": [
       "<div>\n",
       "<style scoped>\n",
       "    .dataframe tbody tr th:only-of-type {\n",
       "        vertical-align: middle;\n",
       "    }\n",
       "\n",
       "    .dataframe tbody tr th {\n",
       "        vertical-align: top;\n",
       "    }\n",
       "\n",
       "    .dataframe thead th {\n",
       "        text-align: right;\n",
       "    }\n",
       "</style>\n",
       "<table border=\"1\" class=\"dataframe\">\n",
       "  <thead>\n",
       "    <tr style=\"text-align: right;\">\n",
       "      <th></th>\n",
       "      <th>image_name</th>\n",
       "      <th>tags</th>\n",
       "    </tr>\n",
       "  </thead>\n",
       "  <tbody>\n",
       "    <tr>\n",
       "      <th>0</th>\n",
       "      <td>test_0.jpg</td>\n",
       "      <td>primary partly_cloudy agriculture</td>\n",
       "    </tr>\n",
       "    <tr>\n",
       "      <th>1</th>\n",
       "      <td>test_1.jpg</td>\n",
       "      <td>primary clear</td>\n",
       "    </tr>\n",
       "    <tr>\n",
       "      <th>2</th>\n",
       "      <td>test_2.jpg</td>\n",
       "      <td>primary partly_cloudy</td>\n",
       "    </tr>\n",
       "    <tr>\n",
       "      <th>3</th>\n",
       "      <td>test_3.jpg</td>\n",
       "      <td>primary clear</td>\n",
       "    </tr>\n",
       "    <tr>\n",
       "      <th>4</th>\n",
       "      <td>test_4.jpg</td>\n",
       "      <td>primary clear</td>\n",
       "    </tr>\n",
       "  </tbody>\n",
       "</table>\n",
       "</div>"
      ],
      "text/plain": [
       "   image_name                               tags\n",
       "0  test_0.jpg  primary partly_cloudy agriculture\n",
       "1  test_1.jpg                      primary clear\n",
       "2  test_2.jpg              primary partly_cloudy\n",
       "3  test_3.jpg                      primary clear\n",
       "4  test_4.jpg                      primary clear"
      ]
     },
     "execution_count": 73,
     "metadata": {},
     "output_type": "execute_result"
    }
   ],
   "source": [
    "df = pd.concat([ans1, ans2])\n",
    "df = df.reset_index().drop('index', axis=1) \n",
    "\n",
    "print(df.shape)\n",
    "df.head()"
   ]
  },
  {
   "cell_type": "code",
   "execution_count": 74,
   "id": "7e91cbcc",
   "metadata": {},
   "outputs": [],
   "source": [
    "df['image_name'] = df['image_name'].str.rstrip('.jpg')"
   ]
  },
  {
   "cell_type": "code",
   "execution_count": 75,
   "id": "17712573",
   "metadata": {},
   "outputs": [],
   "source": [
    "df.to_csv('submission.csv', index=False)"
   ]
  },
  {
   "cell_type": "code",
   "execution_count": null,
   "id": "26216939",
   "metadata": {},
   "outputs": [],
   "source": []
  }
 ],
 "metadata": {
  "kernelspec": {
   "display_name": "Python 3",
   "language": "python",
   "name": "python3"
  },
  "language_info": {
   "codemirror_mode": {
    "name": "ipython",
    "version": 3
   },
   "file_extension": ".py",
   "mimetype": "text/x-python",
   "name": "python",
   "nbconvert_exporter": "python",
   "pygments_lexer": "ipython3",
   "version": "3.8.8"
  }
 },
 "nbformat": 4,
 "nbformat_minor": 5
}
