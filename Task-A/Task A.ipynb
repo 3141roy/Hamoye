{
 "cells": [
  {
   "cell_type": "code",
   "execution_count": 1,
   "id": "0bf3403e",
   "metadata": {},
   "outputs": [],
   "source": [
    "import numpy as np\n",
    "import pandas as pd"
   ]
  },
  {
   "cell_type": "code",
   "execution_count": 2,
   "id": "43d868ee",
   "metadata": {
    "scrolled": true
   },
   "outputs": [],
   "source": [
    "df = pd.read_csv('FoodBalanceSheets_E_Africa_NOFLAG.csv')"
   ]
  },
  {
   "cell_type": "code",
   "execution_count": 3,
   "id": "5b2b53a3",
   "metadata": {},
   "outputs": [
    {
     "data": {
      "text/html": [
       "<div>\n",
       "<style scoped>\n",
       "    .dataframe tbody tr th:only-of-type {\n",
       "        vertical-align: middle;\n",
       "    }\n",
       "\n",
       "    .dataframe tbody tr th {\n",
       "        vertical-align: top;\n",
       "    }\n",
       "\n",
       "    .dataframe thead th {\n",
       "        text-align: right;\n",
       "    }\n",
       "</style>\n",
       "<table border=\"1\" class=\"dataframe\">\n",
       "  <thead>\n",
       "    <tr style=\"text-align: right;\">\n",
       "      <th></th>\n",
       "      <th>Area Code</th>\n",
       "      <th>Area</th>\n",
       "      <th>Item Code</th>\n",
       "      <th>Item</th>\n",
       "      <th>Element Code</th>\n",
       "      <th>Element</th>\n",
       "      <th>Unit</th>\n",
       "      <th>Y2014</th>\n",
       "      <th>Y2015</th>\n",
       "      <th>Y2016</th>\n",
       "      <th>Y2017</th>\n",
       "      <th>Y2018</th>\n",
       "    </tr>\n",
       "  </thead>\n",
       "  <tbody>\n",
       "    <tr>\n",
       "      <th>0</th>\n",
       "      <td>4</td>\n",
       "      <td>Algeria</td>\n",
       "      <td>2501</td>\n",
       "      <td>Population</td>\n",
       "      <td>511</td>\n",
       "      <td>Total Population - Both sexes</td>\n",
       "      <td>1000 persons</td>\n",
       "      <td>38924.00</td>\n",
       "      <td>39728.00</td>\n",
       "      <td>40551.00</td>\n",
       "      <td>41389.00</td>\n",
       "      <td>42228.00</td>\n",
       "    </tr>\n",
       "    <tr>\n",
       "      <th>1</th>\n",
       "      <td>4</td>\n",
       "      <td>Algeria</td>\n",
       "      <td>2501</td>\n",
       "      <td>Population</td>\n",
       "      <td>5301</td>\n",
       "      <td>Domestic supply quantity</td>\n",
       "      <td>1000 tonnes</td>\n",
       "      <td>0.00</td>\n",
       "      <td>0.00</td>\n",
       "      <td>0.00</td>\n",
       "      <td>0.00</td>\n",
       "      <td>0.00</td>\n",
       "    </tr>\n",
       "    <tr>\n",
       "      <th>2</th>\n",
       "      <td>4</td>\n",
       "      <td>Algeria</td>\n",
       "      <td>2901</td>\n",
       "      <td>Grand Total</td>\n",
       "      <td>664</td>\n",
       "      <td>Food supply (kcal/capita/day)</td>\n",
       "      <td>kcal/capita/day</td>\n",
       "      <td>3377.00</td>\n",
       "      <td>3379.00</td>\n",
       "      <td>3372.00</td>\n",
       "      <td>3341.00</td>\n",
       "      <td>3322.00</td>\n",
       "    </tr>\n",
       "    <tr>\n",
       "      <th>3</th>\n",
       "      <td>4</td>\n",
       "      <td>Algeria</td>\n",
       "      <td>2901</td>\n",
       "      <td>Grand Total</td>\n",
       "      <td>674</td>\n",
       "      <td>Protein supply quantity (g/capita/day)</td>\n",
       "      <td>g/capita/day</td>\n",
       "      <td>94.90</td>\n",
       "      <td>94.35</td>\n",
       "      <td>94.72</td>\n",
       "      <td>92.82</td>\n",
       "      <td>91.83</td>\n",
       "    </tr>\n",
       "    <tr>\n",
       "      <th>4</th>\n",
       "      <td>4</td>\n",
       "      <td>Algeria</td>\n",
       "      <td>2901</td>\n",
       "      <td>Grand Total</td>\n",
       "      <td>684</td>\n",
       "      <td>Fat supply quantity (g/capita/day)</td>\n",
       "      <td>g/capita/day</td>\n",
       "      <td>80.06</td>\n",
       "      <td>79.36</td>\n",
       "      <td>77.40</td>\n",
       "      <td>80.19</td>\n",
       "      <td>77.28</td>\n",
       "    </tr>\n",
       "  </tbody>\n",
       "</table>\n",
       "</div>"
      ],
      "text/plain": [
       "   Area Code     Area  Item Code         Item  Element Code  \\\n",
       "0          4  Algeria       2501   Population           511   \n",
       "1          4  Algeria       2501   Population          5301   \n",
       "2          4  Algeria       2901  Grand Total           664   \n",
       "3          4  Algeria       2901  Grand Total           674   \n",
       "4          4  Algeria       2901  Grand Total           684   \n",
       "\n",
       "                                  Element             Unit     Y2014  \\\n",
       "0           Total Population - Both sexes     1000 persons  38924.00   \n",
       "1                Domestic supply quantity      1000 tonnes      0.00   \n",
       "2           Food supply (kcal/capita/day)  kcal/capita/day   3377.00   \n",
       "3  Protein supply quantity (g/capita/day)     g/capita/day     94.90   \n",
       "4      Fat supply quantity (g/capita/day)     g/capita/day     80.06   \n",
       "\n",
       "      Y2015     Y2016     Y2017     Y2018  \n",
       "0  39728.00  40551.00  41389.00  42228.00  \n",
       "1      0.00      0.00      0.00      0.00  \n",
       "2   3379.00   3372.00   3341.00   3322.00  \n",
       "3     94.35     94.72     92.82     91.83  \n",
       "4     79.36     77.40     80.19     77.28  "
      ]
     },
     "execution_count": 3,
     "metadata": {},
     "output_type": "execute_result"
    }
   ],
   "source": [
    "df.head()"
   ]
  },
  {
   "cell_type": "code",
   "execution_count": 4,
   "id": "ae881e1a",
   "metadata": {},
   "outputs": [
    {
     "data": {
      "text/html": [
       "<div>\n",
       "<style scoped>\n",
       "    .dataframe tbody tr th:only-of-type {\n",
       "        vertical-align: middle;\n",
       "    }\n",
       "\n",
       "    .dataframe tbody tr th {\n",
       "        vertical-align: top;\n",
       "    }\n",
       "\n",
       "    .dataframe thead th {\n",
       "        text-align: right;\n",
       "    }\n",
       "</style>\n",
       "<table border=\"1\" class=\"dataframe\">\n",
       "  <thead>\n",
       "    <tr style=\"text-align: right;\">\n",
       "      <th></th>\n",
       "      <th>Area Code</th>\n",
       "      <th>Item Code</th>\n",
       "      <th>Element Code</th>\n",
       "      <th>Y2014</th>\n",
       "      <th>Y2015</th>\n",
       "      <th>Y2016</th>\n",
       "      <th>Y2017</th>\n",
       "      <th>Y2018</th>\n",
       "    </tr>\n",
       "  </thead>\n",
       "  <tbody>\n",
       "    <tr>\n",
       "      <th>count</th>\n",
       "      <td>60943.000000</td>\n",
       "      <td>60943.000000</td>\n",
       "      <td>60943.000000</td>\n",
       "      <td>59354.000000</td>\n",
       "      <td>59395.000000</td>\n",
       "      <td>59408.000000</td>\n",
       "      <td>59437.000000</td>\n",
       "      <td>59507.000000</td>\n",
       "    </tr>\n",
       "    <tr>\n",
       "      <th>mean</th>\n",
       "      <td>134.265576</td>\n",
       "      <td>2687.176706</td>\n",
       "      <td>3814.856456</td>\n",
       "      <td>134.196282</td>\n",
       "      <td>135.235966</td>\n",
       "      <td>136.555222</td>\n",
       "      <td>140.917765</td>\n",
       "      <td>143.758381</td>\n",
       "    </tr>\n",
       "    <tr>\n",
       "      <th>std</th>\n",
       "      <td>72.605709</td>\n",
       "      <td>146.055739</td>\n",
       "      <td>2212.007033</td>\n",
       "      <td>1567.663696</td>\n",
       "      <td>1603.403984</td>\n",
       "      <td>1640.007194</td>\n",
       "      <td>1671.862359</td>\n",
       "      <td>1710.782658</td>\n",
       "    </tr>\n",
       "    <tr>\n",
       "      <th>min</th>\n",
       "      <td>4.000000</td>\n",
       "      <td>2501.000000</td>\n",
       "      <td>511.000000</td>\n",
       "      <td>-1796.000000</td>\n",
       "      <td>-3161.000000</td>\n",
       "      <td>-3225.000000</td>\n",
       "      <td>-1582.000000</td>\n",
       "      <td>-3396.000000</td>\n",
       "    </tr>\n",
       "    <tr>\n",
       "      <th>25%</th>\n",
       "      <td>74.000000</td>\n",
       "      <td>2562.000000</td>\n",
       "      <td>684.000000</td>\n",
       "      <td>0.000000</td>\n",
       "      <td>0.000000</td>\n",
       "      <td>0.000000</td>\n",
       "      <td>0.000000</td>\n",
       "      <td>0.000000</td>\n",
       "    </tr>\n",
       "    <tr>\n",
       "      <th>50%</th>\n",
       "      <td>136.000000</td>\n",
       "      <td>2630.000000</td>\n",
       "      <td>5142.000000</td>\n",
       "      <td>0.090000</td>\n",
       "      <td>0.080000</td>\n",
       "      <td>0.080000</td>\n",
       "      <td>0.100000</td>\n",
       "      <td>0.070000</td>\n",
       "    </tr>\n",
       "    <tr>\n",
       "      <th>75%</th>\n",
       "      <td>195.000000</td>\n",
       "      <td>2775.000000</td>\n",
       "      <td>5511.000000</td>\n",
       "      <td>8.340000</td>\n",
       "      <td>8.460000</td>\n",
       "      <td>8.430000</td>\n",
       "      <td>9.000000</td>\n",
       "      <td>9.000000</td>\n",
       "    </tr>\n",
       "    <tr>\n",
       "      <th>max</th>\n",
       "      <td>276.000000</td>\n",
       "      <td>2961.000000</td>\n",
       "      <td>5911.000000</td>\n",
       "      <td>176405.000000</td>\n",
       "      <td>181137.000000</td>\n",
       "      <td>185960.000000</td>\n",
       "      <td>190873.000000</td>\n",
       "      <td>195875.000000</td>\n",
       "    </tr>\n",
       "  </tbody>\n",
       "</table>\n",
       "</div>"
      ],
      "text/plain": [
       "          Area Code     Item Code  Element Code          Y2014          Y2015  \\\n",
       "count  60943.000000  60943.000000  60943.000000   59354.000000   59395.000000   \n",
       "mean     134.265576   2687.176706   3814.856456     134.196282     135.235966   \n",
       "std       72.605709    146.055739   2212.007033    1567.663696    1603.403984   \n",
       "min        4.000000   2501.000000    511.000000   -1796.000000   -3161.000000   \n",
       "25%       74.000000   2562.000000    684.000000       0.000000       0.000000   \n",
       "50%      136.000000   2630.000000   5142.000000       0.090000       0.080000   \n",
       "75%      195.000000   2775.000000   5511.000000       8.340000       8.460000   \n",
       "max      276.000000   2961.000000   5911.000000  176405.000000  181137.000000   \n",
       "\n",
       "               Y2016          Y2017          Y2018  \n",
       "count   59408.000000   59437.000000   59507.000000  \n",
       "mean      136.555222     140.917765     143.758381  \n",
       "std      1640.007194    1671.862359    1710.782658  \n",
       "min     -3225.000000   -1582.000000   -3396.000000  \n",
       "25%         0.000000       0.000000       0.000000  \n",
       "50%         0.080000       0.100000       0.070000  \n",
       "75%         8.430000       9.000000       9.000000  \n",
       "max    185960.000000  190873.000000  195875.000000  "
      ]
     },
     "execution_count": 4,
     "metadata": {},
     "output_type": "execute_result"
    }
   ],
   "source": [
    "df.describe()"
   ]
  },
  {
   "cell_type": "markdown",
   "id": "3c5287ad",
   "metadata": {},
   "source": [
    "#### Qn 1 : What is the total sum of Animal Fat produced in 2014 and 2017 respectively?"
   ]
  },
  {
   "cell_type": "code",
   "execution_count": 5,
   "id": "cc715284",
   "metadata": {},
   "outputs": [
    {
     "data": {
      "text/plain": [
       "Item\n",
       "Alcohol, Non-Food        2403.00\n",
       "Alcoholic Beverages    102410.11\n",
       "Animal Products         11935.65\n",
       "Animal fats            209460.54\n",
       "Apples and products      9499.23\n",
       "                         ...    \n",
       "Vegetables, Other      155038.96\n",
       "Vegetal Products       107145.19\n",
       "Wheat and products     232670.13\n",
       "Wine                     4497.36\n",
       "Yams                   200396.96\n",
       "Name: Y2014, Length: 119, dtype: float64"
      ]
     },
     "execution_count": 5,
     "metadata": {},
     "output_type": "execute_result"
    }
   ],
   "source": [
    "df.groupby('Item')['Y2014'].sum()"
   ]
  },
  {
   "cell_type": "code",
   "execution_count": 6,
   "id": "08ab4c93",
   "metadata": {},
   "outputs": [
    {
     "data": {
      "text/plain": [
       "Item\n",
       "Alcohol, Non-Food        2348.00\n",
       "Alcoholic Beverages     95581.06\n",
       "Animal Products         11547.65\n",
       "Animal fats            269617.53\n",
       "Apples and products     10198.90\n",
       "                         ...    \n",
       "Vegetables, Other      157752.59\n",
       "Vegetal Products       107655.20\n",
       "Wheat and products     240047.62\n",
       "Wine                     4178.02\n",
       "Yams                   229174.59\n",
       "Name: Y2017, Length: 119, dtype: float64"
      ]
     },
     "execution_count": 6,
     "metadata": {},
     "output_type": "execute_result"
    }
   ],
   "source": [
    "df.groupby('Item')['Y2017'].sum()"
   ]
  },
  {
   "cell_type": "markdown",
   "id": "82fc53b1",
   "metadata": {},
   "source": [
    "For Y2014 - 209460.54\n",
    "For Y2017 - 269617.53"
   ]
  },
  {
   "cell_type": "markdown",
   "id": "d090c449",
   "metadata": {},
   "source": [
    "#### Qn 2. What is the mean and standard deviation across the whole dataset for the year 2015 to 3 decimal places?"
   ]
  },
  {
   "cell_type": "code",
   "execution_count": 7,
   "id": "70773bcc",
   "metadata": {},
   "outputs": [
    {
     "data": {
      "text/plain": [
       "1640.007"
      ]
     },
     "execution_count": 7,
     "metadata": {},
     "output_type": "execute_result"
    }
   ],
   "source": [
    "#For standard deviation in year 2015 rounded off to 3 decimal places\n",
    "round(df['Y2016'].std(),3)"
   ]
  },
  {
   "cell_type": "code",
   "execution_count": 8,
   "id": "39826fb2",
   "metadata": {},
   "outputs": [
    {
     "data": {
      "text/plain": [
       "136.555"
      ]
     },
     "execution_count": 8,
     "metadata": {},
     "output_type": "execute_result"
    }
   ],
   "source": [
    "##For mean in year 2015 rounded off to 3 decimal places\n",
    "round(df['Y2016'].mean(),3)"
   ]
  },
  {
   "cell_type": "markdown",
   "id": "49ee2e15",
   "metadata": {},
   "source": [
    "The closest matching option is 135.236 and 1603.404"
   ]
  },
  {
   "cell_type": "markdown",
   "id": "29625a6b",
   "metadata": {},
   "source": [
    "#### Qn 3. What is the total number and percentage of missing data in 2016 to 2 decimal places?"
   ]
  },
  {
   "cell_type": "code",
   "execution_count": 9,
   "id": "3c8e5af5",
   "metadata": {},
   "outputs": [
    {
     "data": {
      "text/plain": [
       "Area Code          0\n",
       "Area               0\n",
       "Item Code          0\n",
       "Item               0\n",
       "Element Code       0\n",
       "Element            0\n",
       "Unit               0\n",
       "Y2014           1589\n",
       "Y2015           1548\n",
       "Y2016           1535\n",
       "Y2017           1506\n",
       "Y2018           1436\n",
       "dtype: int64"
      ]
     },
     "execution_count": 9,
     "metadata": {},
     "output_type": "execute_result"
    }
   ],
   "source": [
    "df.isnull().sum()"
   ]
  },
  {
   "cell_type": "markdown",
   "id": "4ed9d343",
   "metadata": {},
   "source": [
    "Therefore there are 1535 missing data entries in the year 2016"
   ]
  },
  {
   "cell_type": "code",
   "execution_count": 10,
   "id": "92758c2f",
   "metadata": {},
   "outputs": [
    {
     "data": {
      "text/plain": [
       "Area Code       0.000000\n",
       "Area            0.000000\n",
       "Item Code       0.000000\n",
       "Item            0.000000\n",
       "Element Code    0.000000\n",
       "Element         0.000000\n",
       "Unit            0.000000\n",
       "Y2014           2.607354\n",
       "Y2015           2.540078\n",
       "Y2016           2.518747\n",
       "Y2017           2.471162\n",
       "Y2018           2.356300\n",
       "dtype: float64"
      ]
     },
     "execution_count": 10,
     "metadata": {},
     "output_type": "execute_result"
    }
   ],
   "source": [
    "df.isnull().sum() * 100 / len(df)"
   ]
  },
  {
   "cell_type": "markdown",
   "id": "6d55d9e7",
   "metadata": {},
   "source": [
    "The percetage missing in year 2016 is 2.518 = 2.52"
   ]
  },
  {
   "cell_type": "markdown",
   "id": "7098df57",
   "metadata": {},
   "source": [
    "#### Qn 4. Which year had the highest correlation with ‘Element Code’? "
   ]
  },
  {
   "cell_type": "code",
   "execution_count": 11,
   "id": "d18fb45f",
   "metadata": {},
   "outputs": [
    {
     "data": {
      "text/plain": [
       "0.024456819495222142"
      ]
     },
     "execution_count": 11,
     "metadata": {},
     "output_type": "execute_result"
    }
   ],
   "source": [
    " df['Element Code']. corr(df['Y2014'])"
   ]
  },
  {
   "cell_type": "code",
   "execution_count": 12,
   "id": "12e7fe91",
   "metadata": {},
   "outputs": [
    {
     "data": {
      "text/plain": [
       "0.02388919930164082"
      ]
     },
     "execution_count": 12,
     "metadata": {},
     "output_type": "execute_result"
    }
   ],
   "source": [
    " df['Element Code']. corr(df['Y2015'])"
   ]
  },
  {
   "cell_type": "code",
   "execution_count": 13,
   "id": "87d9e88d",
   "metadata": {},
   "outputs": [
    {
     "data": {
      "text/plain": [
       "0.023443997584961178"
      ]
     },
     "execution_count": 13,
     "metadata": {},
     "output_type": "execute_result"
    }
   ],
   "source": [
    " df['Element Code']. corr(df['Y2016'])"
   ]
  },
  {
   "cell_type": "code",
   "execution_count": 14,
   "id": "027fadcc",
   "metadata": {},
   "outputs": [
    {
     "data": {
      "text/plain": [
       "0.024254007760045347"
      ]
     },
     "execution_count": 14,
     "metadata": {},
     "output_type": "execute_result"
    }
   ],
   "source": [
    " df['Element Code']. corr(df['Y2017'])"
   ]
  },
  {
   "cell_type": "code",
   "execution_count": 15,
   "id": "067ae3da",
   "metadata": {},
   "outputs": [
    {
     "data": {
      "text/plain": [
       "0.02427857195351955"
      ]
     },
     "execution_count": 15,
     "metadata": {},
     "output_type": "execute_result"
    }
   ],
   "source": [
    " df['Element Code']. corr(df['Y2018'])"
   ]
  },
  {
   "cell_type": "markdown",
   "id": "e7c16276",
   "metadata": {},
   "source": [
    "Highest correlation in the year 2014"
   ]
  },
  {
   "cell_type": "code",
   "execution_count": 16,
   "id": "942b25e0",
   "metadata": {},
   "outputs": [
    {
     "data": {
      "text/plain": [
       "Item Code      -0.024683\n",
       "Area Code      -0.000209\n",
       "Y2016           0.023444\n",
       "Y2015           0.023889\n",
       "Y2017           0.024254\n",
       "Y2018           0.024279\n",
       "Y2014           0.024457\n",
       "Element Code    1.000000\n",
       "dtype: float64"
      ]
     },
     "execution_count": 16,
     "metadata": {},
     "output_type": "execute_result"
    }
   ],
   "source": [
    "df.corrwith(df['Element Code']).sort_values()"
   ]
  },
  {
   "cell_type": "markdown",
   "id": "6544e7ca",
   "metadata": {},
   "source": [
    "#### Qn 5. What year has the highest sum of Import Quantity?\n",
    "\n",
    "Hint- Perform a groupby operation on ‘Element’ and use the resulting Dataframe to answer the question"
   ]
  },
  {
   "cell_type": "code",
   "execution_count": 17,
   "id": "2c31e773",
   "metadata": {},
   "outputs": [
    {
     "data": {
      "text/plain": [
       "7965086.130000001"
      ]
     },
     "execution_count": 17,
     "metadata": {},
     "output_type": "execute_result"
    }
   ],
   "source": [
    "df['Y2014'].sum()"
   ]
  },
  {
   "cell_type": "code",
   "execution_count": 18,
   "id": "2a544d38",
   "metadata": {},
   "outputs": [
    {
     "data": {
      "text/plain": [
       "8032340.2299999995"
      ]
     },
     "execution_count": 18,
     "metadata": {},
     "output_type": "execute_result"
    }
   ],
   "source": [
    "df['Y2015'].sum()"
   ]
  },
  {
   "cell_type": "code",
   "execution_count": 19,
   "id": "0e87ce41",
   "metadata": {},
   "outputs": [
    {
     "data": {
      "text/plain": [
       "8112472.649999999"
      ]
     },
     "execution_count": 19,
     "metadata": {},
     "output_type": "execute_result"
    }
   ],
   "source": [
    "df['Y2016'].sum()"
   ]
  },
  {
   "cell_type": "code",
   "execution_count": 20,
   "id": "94378a41",
   "metadata": {},
   "outputs": [
    {
     "data": {
      "text/plain": [
       "8375729.189999999"
      ]
     },
     "execution_count": 20,
     "metadata": {},
     "output_type": "execute_result"
    }
   ],
   "source": [
    "df['Y2017'].sum()"
   ]
  },
  {
   "cell_type": "code",
   "execution_count": 21,
   "id": "c0046db1",
   "metadata": {},
   "outputs": [
    {
     "data": {
      "text/plain": [
       "8554629.96"
      ]
     },
     "execution_count": 21,
     "metadata": {},
     "output_type": "execute_result"
    }
   ],
   "source": [
    "df['Y2018'].sum()"
   ]
  },
  {
   "cell_type": "markdown",
   "id": "ba05afea",
   "metadata": {},
   "source": [
    "#### Qn 6. What is the total number of the sum of Production in 2014?\n",
    "\n",
    "Hint- Perform a groupby operation on ‘Element’ and use the resulting Dataframe to answer the question"
   ]
  },
  {
   "cell_type": "code",
   "execution_count": 22,
   "id": "a0111aa4",
   "metadata": {},
   "outputs": [],
   "source": [
    "df2 = (df.groupby('Element')['Y2014'].sum())"
   ]
  },
  {
   "cell_type": "code",
   "execution_count": 23,
   "id": "cf6bdc68",
   "metadata": {},
   "outputs": [
    {
     "data": {
      "text/plain": [
       "1931287.7500000005"
      ]
     },
     "execution_count": 23,
     "metadata": {},
     "output_type": "execute_result"
    }
   ],
   "source": [
    "df2['Production']"
   ]
  },
  {
   "cell_type": "markdown",
   "id": "181e16e9",
   "metadata": {},
   "source": [
    "#### Qn 7. Which of these elements had the highest sum in 2018?\n",
    "\n",
    "Hint-  Select columns ‘Y2018’ and ‘Element’, Perform a groupby operation on ‘Element’ on the selected dataframe and answer the  question."
   ]
  },
  {
   "cell_type": "code",
   "execution_count": 24,
   "id": "614986b7",
   "metadata": {},
   "outputs": [
    {
     "data": {
      "text/plain": [
       "Element\n",
       "Tourist consumption                            90.00\n",
       "Fat supply quantity (g/capita/day)          10258.69\n",
       "Protein supply quantity (g/capita/day)      11833.56\n",
       "Stock Variation                             20577.91\n",
       "Seed                                        25263.14\n",
       "Residuals                                   34864.00\n",
       "Food supply quantity (kg/capita/yr)         49056.85\n",
       "Other uses (non-food)                       91300.97\n",
       "Losses                                     163902.00\n",
       "Export Quantity                            181594.80\n",
       "Feed                                       233489.68\n",
       "Import Quantity                            287997.09\n",
       "Processing                                 308429.00\n",
       "Food supply (kcal/capita/day)              455261.00\n",
       "Total Population - Both sexes             1140605.00\n",
       "Food                                      1303841.28\n",
       "Production                                2075072.89\n",
       "Domestic supply quantity                  2161192.10\n",
       "Name: Y2018, dtype: float64"
      ]
     },
     "execution_count": 24,
     "metadata": {},
     "output_type": "execute_result"
    }
   ],
   "source": [
    "(df.groupby('Element')['Y2018'].sum()).sort_values()"
   ]
  },
  {
   "cell_type": "markdown",
   "id": "73155a7a",
   "metadata": {},
   "source": [
    "#### Qn 8. Which of these elements had the 3rd lowest sum in 2018?\n",
    "\n",
    "Hint-  Select columns ‘Y2018’ and ‘Element’, Perform a groupby operation on ‘Element’ on the selected dataframe and answer the  question.  "
   ]
  },
  {
   "cell_type": "code",
   "execution_count": 25,
   "id": "479ffdb2",
   "metadata": {},
   "outputs": [
    {
     "data": {
      "text/plain": [
       "Element\n",
       "Tourist consumption                            90.00\n",
       "Fat supply quantity (g/capita/day)          10258.69\n",
       "Protein supply quantity (g/capita/day)      11833.56\n",
       "Stock Variation                             20577.91\n",
       "Seed                                        25263.14\n",
       "Residuals                                   34864.00\n",
       "Food supply quantity (kg/capita/yr)         49056.85\n",
       "Other uses (non-food)                       91300.97\n",
       "Losses                                     163902.00\n",
       "Export Quantity                            181594.80\n",
       "Feed                                       233489.68\n",
       "Import Quantity                            287997.09\n",
       "Processing                                 308429.00\n",
       "Food supply (kcal/capita/day)              455261.00\n",
       "Total Population - Both sexes             1140605.00\n",
       "Food                                      1303841.28\n",
       "Production                                2075072.89\n",
       "Domestic supply quantity                  2161192.10\n",
       "Name: Y2018, dtype: float64"
      ]
     },
     "execution_count": 25,
     "metadata": {},
     "output_type": "execute_result"
    }
   ],
   "source": [
    "(df.groupby('Element')['Y2018'].sum()).sort_values()"
   ]
  },
  {
   "cell_type": "markdown",
   "id": "9a6aed16",
   "metadata": {},
   "source": [
    "Protein supply quantity (g/capita/day) has third lowest sum"
   ]
  },
  {
   "cell_type": "markdown",
   "id": "4ead2b65",
   "metadata": {},
   "source": [
    "#### Qn 9. What is the total Import Quantity in Algeria in 2018?"
   ]
  },
  {
   "cell_type": "code",
   "execution_count": 26,
   "id": "eb65061c",
   "metadata": {},
   "outputs": [],
   "source": [
    "df2 = df.groupby(['Area']).agg({'Y2014':'sum','Y2015':'sum','Y2016':'sum','Y2017':'sum','Y2018':'sum'})"
   ]
  },
  {
   "cell_type": "code",
   "execution_count": 27,
   "id": "f99b293b",
   "metadata": {},
   "outputs": [
    {
     "data": {
      "text/html": [
       "<div>\n",
       "<style scoped>\n",
       "    .dataframe tbody tr th:only-of-type {\n",
       "        vertical-align: middle;\n",
       "    }\n",
       "\n",
       "    .dataframe tbody tr th {\n",
       "        vertical-align: top;\n",
       "    }\n",
       "\n",
       "    .dataframe thead th {\n",
       "        text-align: right;\n",
       "    }\n",
       "</style>\n",
       "<table border=\"1\" class=\"dataframe\">\n",
       "  <thead>\n",
       "    <tr style=\"text-align: right;\">\n",
       "      <th></th>\n",
       "      <th>Y2014</th>\n",
       "      <th>Y2015</th>\n",
       "      <th>Y2016</th>\n",
       "      <th>Y2017</th>\n",
       "      <th>Y2018</th>\n",
       "    </tr>\n",
       "    <tr>\n",
       "      <th>Area</th>\n",
       "      <th></th>\n",
       "      <th></th>\n",
       "      <th></th>\n",
       "      <th></th>\n",
       "      <th></th>\n",
       "    </tr>\n",
       "  </thead>\n",
       "  <tbody>\n",
       "    <tr>\n",
       "      <th>Algeria</th>\n",
       "      <td>313375.33</td>\n",
       "      <td>324058.40</td>\n",
       "      <td>326007.41</td>\n",
       "      <td>325644.27</td>\n",
       "      <td>341729.98</td>\n",
       "    </tr>\n",
       "    <tr>\n",
       "      <th>Angola</th>\n",
       "      <td>208584.42</td>\n",
       "      <td>209565.67</td>\n",
       "      <td>214725.32</td>\n",
       "      <td>229159.57</td>\n",
       "      <td>235206.68</td>\n",
       "    </tr>\n",
       "    <tr>\n",
       "      <th>Benin</th>\n",
       "      <td>118050.79</td>\n",
       "      <td>108181.13</td>\n",
       "      <td>117963.59</td>\n",
       "      <td>124771.22</td>\n",
       "      <td>124960.70</td>\n",
       "    </tr>\n",
       "    <tr>\n",
       "      <th>Botswana</th>\n",
       "      <td>22339.92</td>\n",
       "      <td>23024.85</td>\n",
       "      <td>22970.65</td>\n",
       "      <td>22101.30</td>\n",
       "      <td>23129.08</td>\n",
       "    </tr>\n",
       "    <tr>\n",
       "      <th>Burkina Faso</th>\n",
       "      <td>105051.33</td>\n",
       "      <td>102701.22</td>\n",
       "      <td>107702.27</td>\n",
       "      <td>101855.07</td>\n",
       "      <td>112970.72</td>\n",
       "    </tr>\n",
       "  </tbody>\n",
       "</table>\n",
       "</div>"
      ],
      "text/plain": [
       "                  Y2014      Y2015      Y2016      Y2017      Y2018\n",
       "Area                                                               \n",
       "Algeria       313375.33  324058.40  326007.41  325644.27  341729.98\n",
       "Angola        208584.42  209565.67  214725.32  229159.57  235206.68\n",
       "Benin         118050.79  108181.13  117963.59  124771.22  124960.70\n",
       "Botswana       22339.92   23024.85   22970.65   22101.30   23129.08\n",
       "Burkina Faso  105051.33  102701.22  107702.27  101855.07  112970.72"
      ]
     },
     "execution_count": 27,
     "metadata": {},
     "output_type": "execute_result"
    }
   ],
   "source": [
    "df2.head()"
   ]
  },
  {
   "cell_type": "code",
   "execution_count": 28,
   "id": "bb0c5b22",
   "metadata": {},
   "outputs": [
    {
     "data": {
      "text/html": [
       "<div>\n",
       "<style scoped>\n",
       "    .dataframe tbody tr th:only-of-type {\n",
       "        vertical-align: middle;\n",
       "    }\n",
       "\n",
       "    .dataframe tbody tr th {\n",
       "        vertical-align: top;\n",
       "    }\n",
       "\n",
       "    .dataframe thead th {\n",
       "        text-align: right;\n",
       "    }\n",
       "</style>\n",
       "<table border=\"1\" class=\"dataframe\">\n",
       "  <thead>\n",
       "    <tr style=\"text-align: right;\">\n",
       "      <th></th>\n",
       "      <th>Y2014</th>\n",
       "      <th>Y2015</th>\n",
       "      <th>Y2016</th>\n",
       "      <th>Y2017</th>\n",
       "      <th>Y2018</th>\n",
       "      <th>Sum</th>\n",
       "    </tr>\n",
       "    <tr>\n",
       "      <th>Area</th>\n",
       "      <th></th>\n",
       "      <th></th>\n",
       "      <th></th>\n",
       "      <th></th>\n",
       "      <th></th>\n",
       "      <th></th>\n",
       "    </tr>\n",
       "  </thead>\n",
       "  <tbody>\n",
       "    <tr>\n",
       "      <th>Algeria</th>\n",
       "      <td>313375.33</td>\n",
       "      <td>324058.40</td>\n",
       "      <td>326007.41</td>\n",
       "      <td>325644.27</td>\n",
       "      <td>341729.98</td>\n",
       "      <td>1630815.39</td>\n",
       "    </tr>\n",
       "    <tr>\n",
       "      <th>Angola</th>\n",
       "      <td>208584.42</td>\n",
       "      <td>209565.67</td>\n",
       "      <td>214725.32</td>\n",
       "      <td>229159.57</td>\n",
       "      <td>235206.68</td>\n",
       "      <td>1097241.66</td>\n",
       "    </tr>\n",
       "    <tr>\n",
       "      <th>Benin</th>\n",
       "      <td>118050.79</td>\n",
       "      <td>108181.13</td>\n",
       "      <td>117963.59</td>\n",
       "      <td>124771.22</td>\n",
       "      <td>124960.70</td>\n",
       "      <td>593927.43</td>\n",
       "    </tr>\n",
       "    <tr>\n",
       "      <th>Botswana</th>\n",
       "      <td>22339.92</td>\n",
       "      <td>23024.85</td>\n",
       "      <td>22970.65</td>\n",
       "      <td>22101.30</td>\n",
       "      <td>23129.08</td>\n",
       "      <td>113565.80</td>\n",
       "    </tr>\n",
       "    <tr>\n",
       "      <th>Burkina Faso</th>\n",
       "      <td>105051.33</td>\n",
       "      <td>102701.22</td>\n",
       "      <td>107702.27</td>\n",
       "      <td>101855.07</td>\n",
       "      <td>112970.72</td>\n",
       "      <td>530280.61</td>\n",
       "    </tr>\n",
       "    <tr>\n",
       "      <th>Cabo Verde</th>\n",
       "      <td>14576.94</td>\n",
       "      <td>14538.93</td>\n",
       "      <td>14569.40</td>\n",
       "      <td>14650.74</td>\n",
       "      <td>14622.60</td>\n",
       "      <td>72958.61</td>\n",
       "    </tr>\n",
       "    <tr>\n",
       "      <th>Cameroon</th>\n",
       "      <td>217630.28</td>\n",
       "      <td>225220.72</td>\n",
       "      <td>231714.36</td>\n",
       "      <td>232030.43</td>\n",
       "      <td>233022.93</td>\n",
       "      <td>1139618.72</td>\n",
       "    </tr>\n",
       "    <tr>\n",
       "      <th>Central African Republic</th>\n",
       "      <td>28739.02</td>\n",
       "      <td>28885.34</td>\n",
       "      <td>29454.54</td>\n",
       "      <td>29937.00</td>\n",
       "      <td>30101.57</td>\n",
       "      <td>147117.47</td>\n",
       "    </tr>\n",
       "    <tr>\n",
       "      <th>Chad</th>\n",
       "      <td>65940.17</td>\n",
       "      <td>65835.88</td>\n",
       "      <td>72673.76</td>\n",
       "      <td>71594.68</td>\n",
       "      <td>72282.24</td>\n",
       "      <td>348326.73</td>\n",
       "    </tr>\n",
       "    <tr>\n",
       "      <th>Comoros</th>\n",
       "      <td>32.00</td>\n",
       "      <td>41.34</td>\n",
       "      <td>54.91</td>\n",
       "      <td>59.84</td>\n",
       "      <td>59.84</td>\n",
       "      <td>247.93</td>\n",
       "    </tr>\n",
       "    <tr>\n",
       "      <th>Congo</th>\n",
       "      <td>38699.26</td>\n",
       "      <td>40255.51</td>\n",
       "      <td>40592.66</td>\n",
       "      <td>41181.68</td>\n",
       "      <td>42005.53</td>\n",
       "      <td>202734.64</td>\n",
       "    </tr>\n",
       "    <tr>\n",
       "      <th>C�te d'Ivoire</th>\n",
       "      <td>195982.84</td>\n",
       "      <td>211591.29</td>\n",
       "      <td>211439.20</td>\n",
       "      <td>224599.01</td>\n",
       "      <td>227018.00</td>\n",
       "      <td>1070630.34</td>\n",
       "    </tr>\n",
       "    <tr>\n",
       "      <th>Djibouti</th>\n",
       "      <td>21332.28</td>\n",
       "      <td>23690.16</td>\n",
       "      <td>21783.91</td>\n",
       "      <td>22729.91</td>\n",
       "      <td>23718.96</td>\n",
       "      <td>113255.22</td>\n",
       "    </tr>\n",
       "    <tr>\n",
       "      <th>Egypt</th>\n",
       "      <td>849192.30</td>\n",
       "      <td>868218.73</td>\n",
       "      <td>858568.63</td>\n",
       "      <td>866379.92</td>\n",
       "      <td>852652.92</td>\n",
       "      <td>4295012.50</td>\n",
       "    </tr>\n",
       "    <tr>\n",
       "      <th>Eswatini</th>\n",
       "      <td>53285.75</td>\n",
       "      <td>54072.07</td>\n",
       "      <td>54025.21</td>\n",
       "      <td>54343.33</td>\n",
       "      <td>55045.07</td>\n",
       "      <td>270771.43</td>\n",
       "    </tr>\n",
       "    <tr>\n",
       "      <th>Ethiopia</th>\n",
       "      <td>415935.50</td>\n",
       "      <td>429139.33</td>\n",
       "      <td>444567.57</td>\n",
       "      <td>448683.76</td>\n",
       "      <td>450788.86</td>\n",
       "      <td>2189115.02</td>\n",
       "    </tr>\n",
       "    <tr>\n",
       "      <th>Ethiopia PDR</th>\n",
       "      <td>0.00</td>\n",
       "      <td>0.00</td>\n",
       "      <td>0.00</td>\n",
       "      <td>0.00</td>\n",
       "      <td>0.00</td>\n",
       "      <td>0.00</td>\n",
       "    </tr>\n",
       "    <tr>\n",
       "      <th>Gabon</th>\n",
       "      <td>28126.31</td>\n",
       "      <td>28367.30</td>\n",
       "      <td>28129.95</td>\n",
       "      <td>27979.64</td>\n",
       "      <td>28339.38</td>\n",
       "      <td>140942.58</td>\n",
       "    </tr>\n",
       "    <tr>\n",
       "      <th>Gambia</th>\n",
       "      <td>19607.87</td>\n",
       "      <td>19665.39</td>\n",
       "      <td>21758.15</td>\n",
       "      <td>23154.18</td>\n",
       "      <td>23513.80</td>\n",
       "      <td>107699.39</td>\n",
       "    </tr>\n",
       "    <tr>\n",
       "      <th>Ghana</th>\n",
       "      <td>308328.59</td>\n",
       "      <td>311092.13</td>\n",
       "      <td>314320.45</td>\n",
       "      <td>337599.06</td>\n",
       "      <td>358915.64</td>\n",
       "      <td>1630255.87</td>\n",
       "    </tr>\n",
       "    <tr>\n",
       "      <th>Guinea</th>\n",
       "      <td>91213.40</td>\n",
       "      <td>92803.39</td>\n",
       "      <td>95450.24</td>\n",
       "      <td>98138.87</td>\n",
       "      <td>103262.08</td>\n",
       "      <td>480867.98</td>\n",
       "    </tr>\n",
       "    <tr>\n",
       "      <th>Guinea-Bissau</th>\n",
       "      <td>17708.67</td>\n",
       "      <td>17990.06</td>\n",
       "      <td>18524.83</td>\n",
       "      <td>19102.77</td>\n",
       "      <td>18997.92</td>\n",
       "      <td>92324.25</td>\n",
       "    </tr>\n",
       "    <tr>\n",
       "      <th>Kenya</th>\n",
       "      <td>255211.01</td>\n",
       "      <td>265506.19</td>\n",
       "      <td>260257.56</td>\n",
       "      <td>264660.66</td>\n",
       "      <td>270916.80</td>\n",
       "      <td>1316552.22</td>\n",
       "    </tr>\n",
       "    <tr>\n",
       "      <th>Lesotho</th>\n",
       "      <td>19125.89</td>\n",
       "      <td>17965.84</td>\n",
       "      <td>17258.96</td>\n",
       "      <td>21267.96</td>\n",
       "      <td>19109.23</td>\n",
       "      <td>94727.88</td>\n",
       "    </tr>\n",
       "    <tr>\n",
       "      <th>Liberia</th>\n",
       "      <td>27898.35</td>\n",
       "      <td>28698.10</td>\n",
       "      <td>29746.68</td>\n",
       "      <td>29342.20</td>\n",
       "      <td>29629.83</td>\n",
       "      <td>145315.16</td>\n",
       "    </tr>\n",
       "    <tr>\n",
       "      <th>Madagascar</th>\n",
       "      <td>128985.32</td>\n",
       "      <td>126674.90</td>\n",
       "      <td>129010.25</td>\n",
       "      <td>131197.73</td>\n",
       "      <td>134576.44</td>\n",
       "      <td>650444.64</td>\n",
       "    </tr>\n",
       "    <tr>\n",
       "      <th>Malawi</th>\n",
       "      <td>173454.86</td>\n",
       "      <td>167989.09</td>\n",
       "      <td>164970.42</td>\n",
       "      <td>181098.71</td>\n",
       "      <td>187366.09</td>\n",
       "      <td>874879.17</td>\n",
       "    </tr>\n",
       "    <tr>\n",
       "      <th>Mali</th>\n",
       "      <td>123038.75</td>\n",
       "      <td>132456.58</td>\n",
       "      <td>147324.78</td>\n",
       "      <td>149928.33</td>\n",
       "      <td>159026.42</td>\n",
       "      <td>711774.86</td>\n",
       "    </tr>\n",
       "    <tr>\n",
       "      <th>Mauritania</th>\n",
       "      <td>109557.63</td>\n",
       "      <td>61909.99</td>\n",
       "      <td>79872.42</td>\n",
       "      <td>156665.46</td>\n",
       "      <td>157479.95</td>\n",
       "      <td>565485.45</td>\n",
       "    </tr>\n",
       "    <tr>\n",
       "      <th>Mauritius</th>\n",
       "      <td>50898.12</td>\n",
       "      <td>53372.42</td>\n",
       "      <td>49272.41</td>\n",
       "      <td>51114.83</td>\n",
       "      <td>47150.91</td>\n",
       "      <td>251808.69</td>\n",
       "    </tr>\n",
       "    <tr>\n",
       "      <th>Morocco</th>\n",
       "      <td>375977.76</td>\n",
       "      <td>412473.80</td>\n",
       "      <td>367884.18</td>\n",
       "      <td>388495.36</td>\n",
       "      <td>399271.27</td>\n",
       "      <td>1944102.37</td>\n",
       "    </tr>\n",
       "    <tr>\n",
       "      <th>Mozambique</th>\n",
       "      <td>160757.87</td>\n",
       "      <td>158231.17</td>\n",
       "      <td>159924.41</td>\n",
       "      <td>161407.98</td>\n",
       "      <td>164934.05</td>\n",
       "      <td>805255.48</td>\n",
       "    </tr>\n",
       "    <tr>\n",
       "      <th>Namibia</th>\n",
       "      <td>32026.42</td>\n",
       "      <td>30687.90</td>\n",
       "      <td>30389.07</td>\n",
       "      <td>29874.89</td>\n",
       "      <td>29350.04</td>\n",
       "      <td>152328.32</td>\n",
       "    </tr>\n",
       "    <tr>\n",
       "      <th>Niger</th>\n",
       "      <td>108236.65</td>\n",
       "      <td>117834.65</td>\n",
       "      <td>123601.88</td>\n",
       "      <td>126707.58</td>\n",
       "      <td>133982.86</td>\n",
       "      <td>610363.62</td>\n",
       "    </tr>\n",
       "    <tr>\n",
       "      <th>Nigeria</th>\n",
       "      <td>1399542.19</td>\n",
       "      <td>1414362.83</td>\n",
       "      <td>1482945.71</td>\n",
       "      <td>1483268.23</td>\n",
       "      <td>1499774.24</td>\n",
       "      <td>7279893.20</td>\n",
       "    </tr>\n",
       "    <tr>\n",
       "      <th>Rwanda</th>\n",
       "      <td>70001.38</td>\n",
       "      <td>70138.83</td>\n",
       "      <td>70921.76</td>\n",
       "      <td>73663.69</td>\n",
       "      <td>74839.08</td>\n",
       "      <td>359564.74</td>\n",
       "    </tr>\n",
       "    <tr>\n",
       "      <th>Sao Tome and Principe</th>\n",
       "      <td>12458.64</td>\n",
       "      <td>12386.93</td>\n",
       "      <td>12647.56</td>\n",
       "      <td>12662.63</td>\n",
       "      <td>12806.49</td>\n",
       "      <td>62962.25</td>\n",
       "    </tr>\n",
       "    <tr>\n",
       "      <th>Senegal</th>\n",
       "      <td>78533.93</td>\n",
       "      <td>91939.14</td>\n",
       "      <td>89017.72</td>\n",
       "      <td>95681.15</td>\n",
       "      <td>95493.82</td>\n",
       "      <td>450665.76</td>\n",
       "    </tr>\n",
       "    <tr>\n",
       "      <th>Seychelles</th>\n",
       "      <td>305.20</td>\n",
       "      <td>358.20</td>\n",
       "      <td>416.32</td>\n",
       "      <td>442.34</td>\n",
       "      <td>442.34</td>\n",
       "      <td>1964.40</td>\n",
       "    </tr>\n",
       "    <tr>\n",
       "      <th>Sierra Leone</th>\n",
       "      <td>62570.89</td>\n",
       "      <td>62523.14</td>\n",
       "      <td>52767.72</td>\n",
       "      <td>55311.33</td>\n",
       "      <td>55981.73</td>\n",
       "      <td>289154.81</td>\n",
       "    </tr>\n",
       "    <tr>\n",
       "      <th>South Africa</th>\n",
       "      <td>497289.52</td>\n",
       "      <td>468352.18</td>\n",
       "      <td>462224.16</td>\n",
       "      <td>517590.54</td>\n",
       "      <td>509787.97</td>\n",
       "      <td>2455244.37</td>\n",
       "    </tr>\n",
       "    <tr>\n",
       "      <th>Sudan</th>\n",
       "      <td>247577.56</td>\n",
       "      <td>230652.54</td>\n",
       "      <td>253197.29</td>\n",
       "      <td>239931.92</td>\n",
       "      <td>268054.39</td>\n",
       "      <td>1239413.70</td>\n",
       "    </tr>\n",
       "    <tr>\n",
       "      <th>Sudan (former)</th>\n",
       "      <td>0.00</td>\n",
       "      <td>0.00</td>\n",
       "      <td>0.00</td>\n",
       "      <td>0.00</td>\n",
       "      <td>0.00</td>\n",
       "      <td>0.00</td>\n",
       "    </tr>\n",
       "    <tr>\n",
       "      <th>Togo</th>\n",
       "      <td>47618.05</td>\n",
       "      <td>47834.59</td>\n",
       "      <td>47930.75</td>\n",
       "      <td>49841.88</td>\n",
       "      <td>54872.00</td>\n",
       "      <td>248097.27</td>\n",
       "    </tr>\n",
       "    <tr>\n",
       "      <th>Tunisia</th>\n",
       "      <td>117029.33</td>\n",
       "      <td>128211.41</td>\n",
       "      <td>123778.86</td>\n",
       "      <td>124167.20</td>\n",
       "      <td>127343.17</td>\n",
       "      <td>620529.97</td>\n",
       "    </tr>\n",
       "    <tr>\n",
       "      <th>Uganda</th>\n",
       "      <td>218142.33</td>\n",
       "      <td>220615.72</td>\n",
       "      <td>202981.34</td>\n",
       "      <td>213950.38</td>\n",
       "      <td>222147.25</td>\n",
       "      <td>1077837.02</td>\n",
       "    </tr>\n",
       "    <tr>\n",
       "      <th>United Republic of Tanzania</th>\n",
       "      <td>337430.64</td>\n",
       "      <td>341969.46</td>\n",
       "      <td>333765.86</td>\n",
       "      <td>322616.85</td>\n",
       "      <td>349763.41</td>\n",
       "      <td>1685546.22</td>\n",
       "    </tr>\n",
       "    <tr>\n",
       "      <th>Zambia</th>\n",
       "      <td>99318.53</td>\n",
       "      <td>96214.00</td>\n",
       "      <td>97728.69</td>\n",
       "      <td>103223.77</td>\n",
       "      <td>101604.27</td>\n",
       "      <td>498089.26</td>\n",
       "    </tr>\n",
       "    <tr>\n",
       "      <th>Zimbabwe</th>\n",
       "      <td>78366.34</td>\n",
       "      <td>74041.79</td>\n",
       "      <td>75638.88</td>\n",
       "      <td>75919.34</td>\n",
       "      <td>76581.41</td>\n",
       "      <td>380547.76</td>\n",
       "    </tr>\n",
       "  </tbody>\n",
       "</table>\n",
       "</div>"
      ],
      "text/plain": [
       "                                  Y2014       Y2015       Y2016       Y2017  \\\n",
       "Area                                                                          \n",
       "Algeria                       313375.33   324058.40   326007.41   325644.27   \n",
       "Angola                        208584.42   209565.67   214725.32   229159.57   \n",
       "Benin                         118050.79   108181.13   117963.59   124771.22   \n",
       "Botswana                       22339.92    23024.85    22970.65    22101.30   \n",
       "Burkina Faso                  105051.33   102701.22   107702.27   101855.07   \n",
       "Cabo Verde                     14576.94    14538.93    14569.40    14650.74   \n",
       "Cameroon                      217630.28   225220.72   231714.36   232030.43   \n",
       "Central African Republic       28739.02    28885.34    29454.54    29937.00   \n",
       "Chad                           65940.17    65835.88    72673.76    71594.68   \n",
       "Comoros                           32.00       41.34       54.91       59.84   \n",
       "Congo                          38699.26    40255.51    40592.66    41181.68   \n",
       "C�te d'Ivoire                 195982.84   211591.29   211439.20   224599.01   \n",
       "Djibouti                       21332.28    23690.16    21783.91    22729.91   \n",
       "Egypt                         849192.30   868218.73   858568.63   866379.92   \n",
       "Eswatini                       53285.75    54072.07    54025.21    54343.33   \n",
       "Ethiopia                      415935.50   429139.33   444567.57   448683.76   \n",
       "Ethiopia PDR                       0.00        0.00        0.00        0.00   \n",
       "Gabon                          28126.31    28367.30    28129.95    27979.64   \n",
       "Gambia                         19607.87    19665.39    21758.15    23154.18   \n",
       "Ghana                         308328.59   311092.13   314320.45   337599.06   \n",
       "Guinea                         91213.40    92803.39    95450.24    98138.87   \n",
       "Guinea-Bissau                  17708.67    17990.06    18524.83    19102.77   \n",
       "Kenya                         255211.01   265506.19   260257.56   264660.66   \n",
       "Lesotho                        19125.89    17965.84    17258.96    21267.96   \n",
       "Liberia                        27898.35    28698.10    29746.68    29342.20   \n",
       "Madagascar                    128985.32   126674.90   129010.25   131197.73   \n",
       "Malawi                        173454.86   167989.09   164970.42   181098.71   \n",
       "Mali                          123038.75   132456.58   147324.78   149928.33   \n",
       "Mauritania                    109557.63    61909.99    79872.42   156665.46   \n",
       "Mauritius                      50898.12    53372.42    49272.41    51114.83   \n",
       "Morocco                       375977.76   412473.80   367884.18   388495.36   \n",
       "Mozambique                    160757.87   158231.17   159924.41   161407.98   \n",
       "Namibia                        32026.42    30687.90    30389.07    29874.89   \n",
       "Niger                         108236.65   117834.65   123601.88   126707.58   \n",
       "Nigeria                      1399542.19  1414362.83  1482945.71  1483268.23   \n",
       "Rwanda                         70001.38    70138.83    70921.76    73663.69   \n",
       "Sao Tome and Principe          12458.64    12386.93    12647.56    12662.63   \n",
       "Senegal                        78533.93    91939.14    89017.72    95681.15   \n",
       "Seychelles                       305.20      358.20      416.32      442.34   \n",
       "Sierra Leone                   62570.89    62523.14    52767.72    55311.33   \n",
       "South Africa                  497289.52   468352.18   462224.16   517590.54   \n",
       "Sudan                         247577.56   230652.54   253197.29   239931.92   \n",
       "Sudan (former)                     0.00        0.00        0.00        0.00   \n",
       "Togo                           47618.05    47834.59    47930.75    49841.88   \n",
       "Tunisia                       117029.33   128211.41   123778.86   124167.20   \n",
       "Uganda                        218142.33   220615.72   202981.34   213950.38   \n",
       "United Republic of Tanzania   337430.64   341969.46   333765.86   322616.85   \n",
       "Zambia                         99318.53    96214.00    97728.69   103223.77   \n",
       "Zimbabwe                       78366.34    74041.79    75638.88    75919.34   \n",
       "\n",
       "                                  Y2018         Sum  \n",
       "Area                                                 \n",
       "Algeria                       341729.98  1630815.39  \n",
       "Angola                        235206.68  1097241.66  \n",
       "Benin                         124960.70   593927.43  \n",
       "Botswana                       23129.08   113565.80  \n",
       "Burkina Faso                  112970.72   530280.61  \n",
       "Cabo Verde                     14622.60    72958.61  \n",
       "Cameroon                      233022.93  1139618.72  \n",
       "Central African Republic       30101.57   147117.47  \n",
       "Chad                           72282.24   348326.73  \n",
       "Comoros                           59.84      247.93  \n",
       "Congo                          42005.53   202734.64  \n",
       "C�te d'Ivoire                 227018.00  1070630.34  \n",
       "Djibouti                       23718.96   113255.22  \n",
       "Egypt                         852652.92  4295012.50  \n",
       "Eswatini                       55045.07   270771.43  \n",
       "Ethiopia                      450788.86  2189115.02  \n",
       "Ethiopia PDR                       0.00        0.00  \n",
       "Gabon                          28339.38   140942.58  \n",
       "Gambia                         23513.80   107699.39  \n",
       "Ghana                         358915.64  1630255.87  \n",
       "Guinea                        103262.08   480867.98  \n",
       "Guinea-Bissau                  18997.92    92324.25  \n",
       "Kenya                         270916.80  1316552.22  \n",
       "Lesotho                        19109.23    94727.88  \n",
       "Liberia                        29629.83   145315.16  \n",
       "Madagascar                    134576.44   650444.64  \n",
       "Malawi                        187366.09   874879.17  \n",
       "Mali                          159026.42   711774.86  \n",
       "Mauritania                    157479.95   565485.45  \n",
       "Mauritius                      47150.91   251808.69  \n",
       "Morocco                       399271.27  1944102.37  \n",
       "Mozambique                    164934.05   805255.48  \n",
       "Namibia                        29350.04   152328.32  \n",
       "Niger                         133982.86   610363.62  \n",
       "Nigeria                      1499774.24  7279893.20  \n",
       "Rwanda                         74839.08   359564.74  \n",
       "Sao Tome and Principe          12806.49    62962.25  \n",
       "Senegal                        95493.82   450665.76  \n",
       "Seychelles                       442.34     1964.40  \n",
       "Sierra Leone                   55981.73   289154.81  \n",
       "South Africa                  509787.97  2455244.37  \n",
       "Sudan                         268054.39  1239413.70  \n",
       "Sudan (former)                     0.00        0.00  \n",
       "Togo                           54872.00   248097.27  \n",
       "Tunisia                       127343.17   620529.97  \n",
       "Uganda                        222147.25  1077837.02  \n",
       "United Republic of Tanzania   349763.41  1685546.22  \n",
       "Zambia                        101604.27   498089.26  \n",
       "Zimbabwe                       76581.41   380547.76  "
      ]
     },
     "execution_count": 28,
     "metadata": {},
     "output_type": "execute_result"
    }
   ],
   "source": [
    "df2['Sum'] = df2['Y2014'] + df2['Y2015']+df2['Y2016']+df2['Y2017']+df2['Y2018']\n",
    "df2"
   ]
  },
  {
   "cell_type": "markdown",
   "id": "48770e9e",
   "metadata": {},
   "source": [
    "#### Qn 10. What is the total number of unique countries in the dataset?"
   ]
  },
  {
   "cell_type": "code",
   "execution_count": 29,
   "id": "519e5a23",
   "metadata": {},
   "outputs": [
    {
     "data": {
      "text/plain": [
       "49"
      ]
     },
     "execution_count": 29,
     "metadata": {},
     "output_type": "execute_result"
    }
   ],
   "source": [
    "df['Area'].nunique()"
   ]
  },
  {
   "cell_type": "code",
   "execution_count": null,
   "id": "2abe21f1",
   "metadata": {},
   "outputs": [],
   "source": []
  }
 ],
 "metadata": {
  "kernelspec": {
   "display_name": "Python 3",
   "language": "python",
   "name": "python3"
  },
  "language_info": {
   "codemirror_mode": {
    "name": "ipython",
    "version": 3
   },
   "file_extension": ".py",
   "mimetype": "text/x-python",
   "name": "python",
   "nbconvert_exporter": "python",
   "pygments_lexer": "ipython3",
   "version": "3.8.8"
  }
 },
 "nbformat": 4,
 "nbformat_minor": 5
}
