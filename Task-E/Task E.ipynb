{
  "cells": [
    {
      "cell_type": "code",
      "execution_count": 2,
      "metadata": {
        "id": "u0T6y7AdeFW0"
      },
      "outputs": [],
      "source": [
        "import numpy as np\n",
        "import pandas as pd\n",
        "import matplotlib.pyplot as plt"
      ]
    },
    {
      "cell_type": "code",
      "execution_count": 3,
      "metadata": {
        "colab": {
          "base_uri": "https://localhost:8080/",
          "height": 206
        },
        "id": "uXchzbxneQIJ",
        "outputId": "e31a619b-1d99-4a10-f130-d56f048acf93"
      },
      "outputs": [
        {
          "data": {
            "text/html": [
              "\n",
              "  <div id=\"df-1ecd1857-70bc-40b9-a769-996de18f6191\">\n",
              "    <div class=\"colab-df-container\">\n",
              "      <div>\n",
              "<style scoped>\n",
              "    .dataframe tbody tr th:only-of-type {\n",
              "        vertical-align: middle;\n",
              "    }\n",
              "\n",
              "    .dataframe tbody tr th {\n",
              "        vertical-align: top;\n",
              "    }\n",
              "\n",
              "    .dataframe thead th {\n",
              "        text-align: right;\n",
              "    }\n",
              "</style>\n",
              "<table border=\"1\" class=\"dataframe\">\n",
              "  <thead>\n",
              "    <tr style=\"text-align: right;\">\n",
              "      <th></th>\n",
              "      <th>FullDate</th>\n",
              "      <th>Tmax</th>\n",
              "      <th>SysLoad</th>\n",
              "      <th>GasPrice</th>\n",
              "      <th>ElecPrice</th>\n",
              "    </tr>\n",
              "  </thead>\n",
              "  <tbody>\n",
              "    <tr>\n",
              "      <th>0</th>\n",
              "      <td>2010-09-01 00:00:00</td>\n",
              "      <td>15.8</td>\n",
              "      <td>1688.215</td>\n",
              "      <td>3.69</td>\n",
              "      <td>23.710</td>\n",
              "    </tr>\n",
              "    <tr>\n",
              "      <th>1</th>\n",
              "      <td>2010-09-01 01:00:00</td>\n",
              "      <td>15.8</td>\n",
              "      <td>1669.195</td>\n",
              "      <td>3.69</td>\n",
              "      <td>22.635</td>\n",
              "    </tr>\n",
              "    <tr>\n",
              "      <th>2</th>\n",
              "      <td>2010-09-01 02:00:00</td>\n",
              "      <td>15.8</td>\n",
              "      <td>1491.980</td>\n",
              "      <td>3.69</td>\n",
              "      <td>22.565</td>\n",
              "    </tr>\n",
              "    <tr>\n",
              "      <th>3</th>\n",
              "      <td>2010-09-01 03:00:00</td>\n",
              "      <td>15.8</td>\n",
              "      <td>1330.760</td>\n",
              "      <td>3.69</td>\n",
              "      <td>18.910</td>\n",
              "    </tr>\n",
              "    <tr>\n",
              "      <th>4</th>\n",
              "      <td>2010-09-01 04:00:00</td>\n",
              "      <td>15.8</td>\n",
              "      <td>1247.940</td>\n",
              "      <td>3.69</td>\n",
              "      <td>18.030</td>\n",
              "    </tr>\n",
              "  </tbody>\n",
              "</table>\n",
              "</div>\n",
              "      <button class=\"colab-df-convert\" onclick=\"convertToInteractive('df-1ecd1857-70bc-40b9-a769-996de18f6191')\"\n",
              "              title=\"Convert this dataframe to an interactive table.\"\n",
              "              style=\"display:none;\">\n",
              "        \n",
              "  <svg xmlns=\"http://www.w3.org/2000/svg\" height=\"24px\"viewBox=\"0 0 24 24\"\n",
              "       width=\"24px\">\n",
              "    <path d=\"M0 0h24v24H0V0z\" fill=\"none\"/>\n",
              "    <path d=\"M18.56 5.44l.94 2.06.94-2.06 2.06-.94-2.06-.94-.94-2.06-.94 2.06-2.06.94zm-11 1L8.5 8.5l.94-2.06 2.06-.94-2.06-.94L8.5 2.5l-.94 2.06-2.06.94zm10 10l.94 2.06.94-2.06 2.06-.94-2.06-.94-.94-2.06-.94 2.06-2.06.94z\"/><path d=\"M17.41 7.96l-1.37-1.37c-.4-.4-.92-.59-1.43-.59-.52 0-1.04.2-1.43.59L10.3 9.45l-7.72 7.72c-.78.78-.78 2.05 0 2.83L4 21.41c.39.39.9.59 1.41.59.51 0 1.02-.2 1.41-.59l7.78-7.78 2.81-2.81c.8-.78.8-2.07 0-2.86zM5.41 20L4 18.59l7.72-7.72 1.47 1.35L5.41 20z\"/>\n",
              "  </svg>\n",
              "      </button>\n",
              "      \n",
              "  <style>\n",
              "    .colab-df-container {\n",
              "      display:flex;\n",
              "      flex-wrap:wrap;\n",
              "      gap: 12px;\n",
              "    }\n",
              "\n",
              "    .colab-df-convert {\n",
              "      background-color: #E8F0FE;\n",
              "      border: none;\n",
              "      border-radius: 50%;\n",
              "      cursor: pointer;\n",
              "      display: none;\n",
              "      fill: #1967D2;\n",
              "      height: 32px;\n",
              "      padding: 0 0 0 0;\n",
              "      width: 32px;\n",
              "    }\n",
              "\n",
              "    .colab-df-convert:hover {\n",
              "      background-color: #E2EBFA;\n",
              "      box-shadow: 0px 1px 2px rgba(60, 64, 67, 0.3), 0px 1px 3px 1px rgba(60, 64, 67, 0.15);\n",
              "      fill: #174EA6;\n",
              "    }\n",
              "\n",
              "    [theme=dark] .colab-df-convert {\n",
              "      background-color: #3B4455;\n",
              "      fill: #D2E3FC;\n",
              "    }\n",
              "\n",
              "    [theme=dark] .colab-df-convert:hover {\n",
              "      background-color: #434B5C;\n",
              "      box-shadow: 0px 1px 3px 1px rgba(0, 0, 0, 0.15);\n",
              "      filter: drop-shadow(0px 1px 2px rgba(0, 0, 0, 0.3));\n",
              "      fill: #FFFFFF;\n",
              "    }\n",
              "  </style>\n",
              "\n",
              "      <script>\n",
              "        const buttonEl =\n",
              "          document.querySelector('#df-1ecd1857-70bc-40b9-a769-996de18f6191 button.colab-df-convert');\n",
              "        buttonEl.style.display =\n",
              "          google.colab.kernel.accessAllowed ? 'block' : 'none';\n",
              "\n",
              "        async function convertToInteractive(key) {\n",
              "          const element = document.querySelector('#df-1ecd1857-70bc-40b9-a769-996de18f6191');\n",
              "          const dataTable =\n",
              "            await google.colab.kernel.invokeFunction('convertToInteractive',\n",
              "                                                     [key], {});\n",
              "          if (!dataTable) return;\n",
              "\n",
              "          const docLinkHtml = 'Like what you see? Visit the ' +\n",
              "            '<a target=\"_blank\" href=https://colab.research.google.com/notebooks/data_table.ipynb>data table notebook</a>'\n",
              "            + ' to learn more about interactive tables.';\n",
              "          element.innerHTML = '';\n",
              "          dataTable['output_type'] = 'display_data';\n",
              "          await google.colab.output.renderOutput(dataTable, element);\n",
              "          const docLink = document.createElement('div');\n",
              "          docLink.innerHTML = docLinkHtml;\n",
              "          element.appendChild(docLink);\n",
              "        }\n",
              "      </script>\n",
              "    </div>\n",
              "  </div>\n",
              "  "
            ],
            "text/plain": [
              "              FullDate  Tmax   SysLoad  GasPrice  ElecPrice\n",
              "0  2010-09-01 00:00:00  15.8  1688.215      3.69     23.710\n",
              "1  2010-09-01 01:00:00  15.8  1669.195      3.69     22.635\n",
              "2  2010-09-01 02:00:00  15.8  1491.980      3.69     22.565\n",
              "3  2010-09-01 03:00:00  15.8  1330.760      3.69     18.910\n",
              "4  2010-09-01 04:00:00  15.8  1247.940      3.69     18.030"
            ]
          },
          "execution_count": 3,
          "metadata": {},
          "output_type": "execute_result"
        }
      ],
      "source": [
        "df = pd.read_csv('Time_series_analysis_and_forecast_DATASET.csv')\n",
        "df.head()"
      ]
    },
    {
      "cell_type": "code",
      "execution_count": 4,
      "metadata": {
        "colab": {
          "base_uri": "https://localhost:8080/"
        },
        "id": "OmzvK33keQKR",
        "outputId": "374c7f52-d6bd-4440-a4bd-df3be5d4410b"
      },
      "outputs": [
        {
          "data": {
            "text/plain": [
              "(92016, 5)"
            ]
          },
          "execution_count": 4,
          "metadata": {},
          "output_type": "execute_result"
        }
      ],
      "source": [
        "df.shape"
      ]
    },
    {
      "cell_type": "code",
      "execution_count": 5,
      "metadata": {
        "colab": {
          "base_uri": "https://localhost:8080/"
        },
        "id": "EzJOGsHZeQMv",
        "outputId": "db541c83-3905-4b96-f7f3-6ab3ba257211"
      },
      "outputs": [
        {
          "name": "stdout",
          "output_type": "stream",
          "text": [
            "<class 'pandas.core.frame.DataFrame'>\n",
            "RangeIndex: 92016 entries, 0 to 92015\n",
            "Data columns (total 5 columns):\n",
            " #   Column     Non-Null Count  Dtype  \n",
            "---  ------     --------------  -----  \n",
            " 0   FullDate   92016 non-null  object \n",
            " 1   Tmax       92016 non-null  float64\n",
            " 2   SysLoad    92016 non-null  float64\n",
            " 3   GasPrice   92016 non-null  float64\n",
            " 4   ElecPrice  92016 non-null  float64\n",
            "dtypes: float64(4), object(1)\n",
            "memory usage: 3.5+ MB\n"
          ]
        }
      ],
      "source": [
        "df.info()"
      ]
    },
    {
      "cell_type": "code",
      "execution_count": 6,
      "metadata": {
        "colab": {
          "base_uri": "https://localhost:8080/"
        },
        "id": "kwsd9kMveQO_",
        "outputId": "00dfd3b8-829b-4e9f-c858-174ac2cc1e4c"
      },
      "outputs": [
        {
          "data": {
            "text/plain": [
              "<bound method Series.unique of 0         23.710\n",
              "1         22.635\n",
              "2         22.565\n",
              "3         18.910\n",
              "4         18.030\n",
              "          ...   \n",
              "92011    117.925\n",
              "92012     87.880\n",
              "92013     62.060\n",
              "92014     62.000\n",
              "92015     62.955\n",
              "Name: ElecPrice, Length: 92016, dtype: float64>"
            ]
          },
          "execution_count": 6,
          "metadata": {},
          "output_type": "execute_result"
        }
      ],
      "source": [
        "df['ElecPrice'].unique"
      ]
    },
    {
      "cell_type": "code",
      "execution_count": 7,
      "metadata": {
        "colab": {
          "base_uri": "https://localhost:8080/",
          "height": 394
        },
        "id": "A7mr_1mXeQQ_",
        "outputId": "1b6a92c5-34ea-47f2-f89b-1f1b5362546a"
      },
      "outputs": [
        {
          "data": {
            "text/html": [
              "\n",
              "  <div id=\"df-03d39f9f-82ad-4d1b-86c1-08bc247e5b44\">\n",
              "    <div class=\"colab-df-container\">\n",
              "      <div>\n",
              "<style scoped>\n",
              "    .dataframe tbody tr th:only-of-type {\n",
              "        vertical-align: middle;\n",
              "    }\n",
              "\n",
              "    .dataframe tbody tr th {\n",
              "        vertical-align: top;\n",
              "    }\n",
              "\n",
              "    .dataframe thead th {\n",
              "        text-align: right;\n",
              "    }\n",
              "</style>\n",
              "<table border=\"1\" class=\"dataframe\">\n",
              "  <thead>\n",
              "    <tr style=\"text-align: right;\">\n",
              "      <th></th>\n",
              "      <th>FullDate</th>\n",
              "      <th>Tmax</th>\n",
              "      <th>SysLoad</th>\n",
              "      <th>GasPrice</th>\n",
              "      <th>ElecPrice</th>\n",
              "    </tr>\n",
              "  </thead>\n",
              "  <tbody>\n",
              "    <tr>\n",
              "      <th>count</th>\n",
              "      <td>92016</td>\n",
              "      <td>92016.000000</td>\n",
              "      <td>92016.000000</td>\n",
              "      <td>92016.000000</td>\n",
              "      <td>92016.000000</td>\n",
              "    </tr>\n",
              "    <tr>\n",
              "      <th>unique</th>\n",
              "      <td>92016</td>\n",
              "      <td>NaN</td>\n",
              "      <td>NaN</td>\n",
              "      <td>NaN</td>\n",
              "      <td>NaN</td>\n",
              "    </tr>\n",
              "    <tr>\n",
              "      <th>top</th>\n",
              "      <td>2010-09-01 00:00:00</td>\n",
              "      <td>NaN</td>\n",
              "      <td>NaN</td>\n",
              "      <td>NaN</td>\n",
              "      <td>NaN</td>\n",
              "    </tr>\n",
              "    <tr>\n",
              "      <th>freq</th>\n",
              "      <td>1</td>\n",
              "      <td>NaN</td>\n",
              "      <td>NaN</td>\n",
              "      <td>NaN</td>\n",
              "      <td>NaN</td>\n",
              "    </tr>\n",
              "    <tr>\n",
              "      <th>mean</th>\n",
              "      <td>NaN</td>\n",
              "      <td>231.696688</td>\n",
              "      <td>797.623357</td>\n",
              "      <td>6.016163</td>\n",
              "      <td>65.798356</td>\n",
              "    </tr>\n",
              "    <tr>\n",
              "      <th>std</th>\n",
              "      <td>NaN</td>\n",
              "      <td>4562.128748</td>\n",
              "      <td>613.520156</td>\n",
              "      <td>2.608116</td>\n",
              "      <td>213.144084</td>\n",
              "    </tr>\n",
              "    <tr>\n",
              "      <th>min</th>\n",
              "      <td>NaN</td>\n",
              "      <td>9.900000</td>\n",
              "      <td>-1596.810100</td>\n",
              "      <td>0.000000</td>\n",
              "      <td>-924.820000</td>\n",
              "    </tr>\n",
              "    <tr>\n",
              "      <th>25%</th>\n",
              "      <td>NaN</td>\n",
              "      <td>17.300000</td>\n",
              "      <td>417.119800</td>\n",
              "      <td>3.936900</td>\n",
              "      <td>31.543750</td>\n",
              "    </tr>\n",
              "    <tr>\n",
              "      <th>50%</th>\n",
              "      <td>NaN</td>\n",
              "      <td>21.900000</td>\n",
              "      <td>856.467925</td>\n",
              "      <td>5.165600</td>\n",
              "      <td>48.715000</td>\n",
              "    </tr>\n",
              "    <tr>\n",
              "      <th>75%</th>\n",
              "      <td>NaN</td>\n",
              "      <td>27.600000</td>\n",
              "      <td>1221.293675</td>\n",
              "      <td>8.023300</td>\n",
              "      <td>76.495000</td>\n",
              "    </tr>\n",
              "    <tr>\n",
              "      <th>max</th>\n",
              "      <td>NaN</td>\n",
              "      <td>99999.900000</td>\n",
              "      <td>3264.166300</td>\n",
              "      <td>29.990000</td>\n",
              "      <td>14700.000000</td>\n",
              "    </tr>\n",
              "  </tbody>\n",
              "</table>\n",
              "</div>\n",
              "      <button class=\"colab-df-convert\" onclick=\"convertToInteractive('df-03d39f9f-82ad-4d1b-86c1-08bc247e5b44')\"\n",
              "              title=\"Convert this dataframe to an interactive table.\"\n",
              "              style=\"display:none;\">\n",
              "        \n",
              "  <svg xmlns=\"http://www.w3.org/2000/svg\" height=\"24px\"viewBox=\"0 0 24 24\"\n",
              "       width=\"24px\">\n",
              "    <path d=\"M0 0h24v24H0V0z\" fill=\"none\"/>\n",
              "    <path d=\"M18.56 5.44l.94 2.06.94-2.06 2.06-.94-2.06-.94-.94-2.06-.94 2.06-2.06.94zm-11 1L8.5 8.5l.94-2.06 2.06-.94-2.06-.94L8.5 2.5l-.94 2.06-2.06.94zm10 10l.94 2.06.94-2.06 2.06-.94-2.06-.94-.94-2.06-.94 2.06-2.06.94z\"/><path d=\"M17.41 7.96l-1.37-1.37c-.4-.4-.92-.59-1.43-.59-.52 0-1.04.2-1.43.59L10.3 9.45l-7.72 7.72c-.78.78-.78 2.05 0 2.83L4 21.41c.39.39.9.59 1.41.59.51 0 1.02-.2 1.41-.59l7.78-7.78 2.81-2.81c.8-.78.8-2.07 0-2.86zM5.41 20L4 18.59l7.72-7.72 1.47 1.35L5.41 20z\"/>\n",
              "  </svg>\n",
              "      </button>\n",
              "      \n",
              "  <style>\n",
              "    .colab-df-container {\n",
              "      display:flex;\n",
              "      flex-wrap:wrap;\n",
              "      gap: 12px;\n",
              "    }\n",
              "\n",
              "    .colab-df-convert {\n",
              "      background-color: #E8F0FE;\n",
              "      border: none;\n",
              "      border-radius: 50%;\n",
              "      cursor: pointer;\n",
              "      display: none;\n",
              "      fill: #1967D2;\n",
              "      height: 32px;\n",
              "      padding: 0 0 0 0;\n",
              "      width: 32px;\n",
              "    }\n",
              "\n",
              "    .colab-df-convert:hover {\n",
              "      background-color: #E2EBFA;\n",
              "      box-shadow: 0px 1px 2px rgba(60, 64, 67, 0.3), 0px 1px 3px 1px rgba(60, 64, 67, 0.15);\n",
              "      fill: #174EA6;\n",
              "    }\n",
              "\n",
              "    [theme=dark] .colab-df-convert {\n",
              "      background-color: #3B4455;\n",
              "      fill: #D2E3FC;\n",
              "    }\n",
              "\n",
              "    [theme=dark] .colab-df-convert:hover {\n",
              "      background-color: #434B5C;\n",
              "      box-shadow: 0px 1px 3px 1px rgba(0, 0, 0, 0.15);\n",
              "      filter: drop-shadow(0px 1px 2px rgba(0, 0, 0, 0.3));\n",
              "      fill: #FFFFFF;\n",
              "    }\n",
              "  </style>\n",
              "\n",
              "      <script>\n",
              "        const buttonEl =\n",
              "          document.querySelector('#df-03d39f9f-82ad-4d1b-86c1-08bc247e5b44 button.colab-df-convert');\n",
              "        buttonEl.style.display =\n",
              "          google.colab.kernel.accessAllowed ? 'block' : 'none';\n",
              "\n",
              "        async function convertToInteractive(key) {\n",
              "          const element = document.querySelector('#df-03d39f9f-82ad-4d1b-86c1-08bc247e5b44');\n",
              "          const dataTable =\n",
              "            await google.colab.kernel.invokeFunction('convertToInteractive',\n",
              "                                                     [key], {});\n",
              "          if (!dataTable) return;\n",
              "\n",
              "          const docLinkHtml = 'Like what you see? Visit the ' +\n",
              "            '<a target=\"_blank\" href=https://colab.research.google.com/notebooks/data_table.ipynb>data table notebook</a>'\n",
              "            + ' to learn more about interactive tables.';\n",
              "          element.innerHTML = '';\n",
              "          dataTable['output_type'] = 'display_data';\n",
              "          await google.colab.output.renderOutput(dataTable, element);\n",
              "          const docLink = document.createElement('div');\n",
              "          docLink.innerHTML = docLinkHtml;\n",
              "          element.appendChild(docLink);\n",
              "        }\n",
              "      </script>\n",
              "    </div>\n",
              "  </div>\n",
              "  "
            ],
            "text/plain": [
              "                   FullDate          Tmax       SysLoad      GasPrice  \\\n",
              "count                 92016  92016.000000  92016.000000  92016.000000   \n",
              "unique                92016           NaN           NaN           NaN   \n",
              "top     2010-09-01 00:00:00           NaN           NaN           NaN   \n",
              "freq                      1           NaN           NaN           NaN   \n",
              "mean                    NaN    231.696688    797.623357      6.016163   \n",
              "std                     NaN   4562.128748    613.520156      2.608116   \n",
              "min                     NaN      9.900000  -1596.810100      0.000000   \n",
              "25%                     NaN     17.300000    417.119800      3.936900   \n",
              "50%                     NaN     21.900000    856.467925      5.165600   \n",
              "75%                     NaN     27.600000   1221.293675      8.023300   \n",
              "max                     NaN  99999.900000   3264.166300     29.990000   \n",
              "\n",
              "           ElecPrice  \n",
              "count   92016.000000  \n",
              "unique           NaN  \n",
              "top              NaN  \n",
              "freq             NaN  \n",
              "mean       65.798356  \n",
              "std       213.144084  \n",
              "min      -924.820000  \n",
              "25%        31.543750  \n",
              "50%        48.715000  \n",
              "75%        76.495000  \n",
              "max     14700.000000  "
            ]
          },
          "execution_count": 7,
          "metadata": {},
          "output_type": "execute_result"
        }
      ],
      "source": [
        "df.describe(include='all')"
      ]
    },
    {
      "cell_type": "code",
      "execution_count": 8,
      "metadata": {
        "colab": {
          "base_uri": "https://localhost:8080/",
          "height": 206
        },
        "id": "lImz-aCQeYO3",
        "outputId": "93e042e8-7d4e-4a49-af85-8a8c976908aa"
      },
      "outputs": [
        {
          "data": {
            "text/html": [
              "\n",
              "  <div id=\"df-318f3a43-8b7c-4270-85da-8ea5cea0855e\">\n",
              "    <div class=\"colab-df-container\">\n",
              "      <div>\n",
              "<style scoped>\n",
              "    .dataframe tbody tr th:only-of-type {\n",
              "        vertical-align: middle;\n",
              "    }\n",
              "\n",
              "    .dataframe tbody tr th {\n",
              "        vertical-align: top;\n",
              "    }\n",
              "\n",
              "    .dataframe thead th {\n",
              "        text-align: right;\n",
              "    }\n",
              "</style>\n",
              "<table border=\"1\" class=\"dataframe\">\n",
              "  <thead>\n",
              "    <tr style=\"text-align: right;\">\n",
              "      <th></th>\n",
              "      <th>FullDate</th>\n",
              "      <th>Tmax</th>\n",
              "      <th>SysLoad</th>\n",
              "      <th>GasPrice</th>\n",
              "      <th>ElecPrice</th>\n",
              "    </tr>\n",
              "  </thead>\n",
              "  <tbody>\n",
              "    <tr>\n",
              "      <th>0</th>\n",
              "      <td>2010-09-01</td>\n",
              "      <td>379.2</td>\n",
              "      <td>41565.380</td>\n",
              "      <td>88.56</td>\n",
              "      <td>2751.700</td>\n",
              "    </tr>\n",
              "    <tr>\n",
              "      <th>1</th>\n",
              "      <td>2010-09-02</td>\n",
              "      <td>369.6</td>\n",
              "      <td>38898.990</td>\n",
              "      <td>88.56</td>\n",
              "      <td>570.810</td>\n",
              "    </tr>\n",
              "    <tr>\n",
              "      <th>2</th>\n",
              "      <td>2010-09-03</td>\n",
              "      <td>439.2</td>\n",
              "      <td>41665.760</td>\n",
              "      <td>106.80</td>\n",
              "      <td>504.975</td>\n",
              "    </tr>\n",
              "    <tr>\n",
              "      <th>3</th>\n",
              "      <td>2010-09-04</td>\n",
              "      <td>328.8</td>\n",
              "      <td>35638.085</td>\n",
              "      <td>81.36</td>\n",
              "      <td>502.275</td>\n",
              "    </tr>\n",
              "    <tr>\n",
              "      <th>4</th>\n",
              "      <td>2010-09-05</td>\n",
              "      <td>357.6</td>\n",
              "      <td>35611.410</td>\n",
              "      <td>106.80</td>\n",
              "      <td>500.555</td>\n",
              "    </tr>\n",
              "  </tbody>\n",
              "</table>\n",
              "</div>\n",
              "      <button class=\"colab-df-convert\" onclick=\"convertToInteractive('df-318f3a43-8b7c-4270-85da-8ea5cea0855e')\"\n",
              "              title=\"Convert this dataframe to an interactive table.\"\n",
              "              style=\"display:none;\">\n",
              "        \n",
              "  <svg xmlns=\"http://www.w3.org/2000/svg\" height=\"24px\"viewBox=\"0 0 24 24\"\n",
              "       width=\"24px\">\n",
              "    <path d=\"M0 0h24v24H0V0z\" fill=\"none\"/>\n",
              "    <path d=\"M18.56 5.44l.94 2.06.94-2.06 2.06-.94-2.06-.94-.94-2.06-.94 2.06-2.06.94zm-11 1L8.5 8.5l.94-2.06 2.06-.94-2.06-.94L8.5 2.5l-.94 2.06-2.06.94zm10 10l.94 2.06.94-2.06 2.06-.94-2.06-.94-.94-2.06-.94 2.06-2.06.94z\"/><path d=\"M17.41 7.96l-1.37-1.37c-.4-.4-.92-.59-1.43-.59-.52 0-1.04.2-1.43.59L10.3 9.45l-7.72 7.72c-.78.78-.78 2.05 0 2.83L4 21.41c.39.39.9.59 1.41.59.51 0 1.02-.2 1.41-.59l7.78-7.78 2.81-2.81c.8-.78.8-2.07 0-2.86zM5.41 20L4 18.59l7.72-7.72 1.47 1.35L5.41 20z\"/>\n",
              "  </svg>\n",
              "      </button>\n",
              "      \n",
              "  <style>\n",
              "    .colab-df-container {\n",
              "      display:flex;\n",
              "      flex-wrap:wrap;\n",
              "      gap: 12px;\n",
              "    }\n",
              "\n",
              "    .colab-df-convert {\n",
              "      background-color: #E8F0FE;\n",
              "      border: none;\n",
              "      border-radius: 50%;\n",
              "      cursor: pointer;\n",
              "      display: none;\n",
              "      fill: #1967D2;\n",
              "      height: 32px;\n",
              "      padding: 0 0 0 0;\n",
              "      width: 32px;\n",
              "    }\n",
              "\n",
              "    .colab-df-convert:hover {\n",
              "      background-color: #E2EBFA;\n",
              "      box-shadow: 0px 1px 2px rgba(60, 64, 67, 0.3), 0px 1px 3px 1px rgba(60, 64, 67, 0.15);\n",
              "      fill: #174EA6;\n",
              "    }\n",
              "\n",
              "    [theme=dark] .colab-df-convert {\n",
              "      background-color: #3B4455;\n",
              "      fill: #D2E3FC;\n",
              "    }\n",
              "\n",
              "    [theme=dark] .colab-df-convert:hover {\n",
              "      background-color: #434B5C;\n",
              "      box-shadow: 0px 1px 3px 1px rgba(0, 0, 0, 0.15);\n",
              "      filter: drop-shadow(0px 1px 2px rgba(0, 0, 0, 0.3));\n",
              "      fill: #FFFFFF;\n",
              "    }\n",
              "  </style>\n",
              "\n",
              "      <script>\n",
              "        const buttonEl =\n",
              "          document.querySelector('#df-318f3a43-8b7c-4270-85da-8ea5cea0855e button.colab-df-convert');\n",
              "        buttonEl.style.display =\n",
              "          google.colab.kernel.accessAllowed ? 'block' : 'none';\n",
              "\n",
              "        async function convertToInteractive(key) {\n",
              "          const element = document.querySelector('#df-318f3a43-8b7c-4270-85da-8ea5cea0855e');\n",
              "          const dataTable =\n",
              "            await google.colab.kernel.invokeFunction('convertToInteractive',\n",
              "                                                     [key], {});\n",
              "          if (!dataTable) return;\n",
              "\n",
              "          const docLinkHtml = 'Like what you see? Visit the ' +\n",
              "            '<a target=\"_blank\" href=https://colab.research.google.com/notebooks/data_table.ipynb>data table notebook</a>'\n",
              "            + ' to learn more about interactive tables.';\n",
              "          element.innerHTML = '';\n",
              "          dataTable['output_type'] = 'display_data';\n",
              "          await google.colab.output.renderOutput(dataTable, element);\n",
              "          const docLink = document.createElement('div');\n",
              "          docLink.innerHTML = docLinkHtml;\n",
              "          element.appendChild(docLink);\n",
              "        }\n",
              "      </script>\n",
              "    </div>\n",
              "  </div>\n",
              "  "
            ],
            "text/plain": [
              "    FullDate   Tmax    SysLoad  GasPrice  ElecPrice\n",
              "0 2010-09-01  379.2  41565.380     88.56   2751.700\n",
              "1 2010-09-02  369.6  38898.990     88.56    570.810\n",
              "2 2010-09-03  439.2  41665.760    106.80    504.975\n",
              "3 2010-09-04  328.8  35638.085     81.36    502.275\n",
              "4 2010-09-05  357.6  35611.410    106.80    500.555"
            ]
          },
          "execution_count": 8,
          "metadata": {},
          "output_type": "execute_result"
        }
      ],
      "source": [
        "#Resampling from hour to day sampling\n",
        "df['FullDate'] = pd.to_datetime(df['FullDate'])\n",
        "df = df.set_index('FullDate') \n",
        "df = df.resample('D').sum() \n",
        "df = df.reset_index()\n",
        "df.head()"
      ]
    },
    {
      "cell_type": "code",
      "execution_count": 9,
      "metadata": {
        "colab": {
          "base_uri": "https://localhost:8080/",
          "height": 265
        },
        "id": "LWN1JaU1eYRP",
        "outputId": "b1b7055a-e350-4551-a2da-ef7f33a9423e"
      },
      "outputs": [
        {
          "data": {
            "image/png": "[encoded data removed]",
            "text/plain": [
              "<Figure size 432x288 with 1 Axes>"
            ]
          },
          "metadata": {
            "needs_background": "light"
          },
          "output_type": "display_data"
        }
      ],
      "source": [
        "plt.plot(df.index, df.ElecPrice)\n",
        "plt.grid()"
      ]
    },
    {
      "cell_type": "markdown",
      "metadata": {
        "id": "g75XVwgGedR-"
      },
      "source": [
        "##### P-value of the SysLoad and GasPrice of the resampled Data set using the Augmented Dicky Fuller test (ADF) to 6 decimal places.\n",
        "\n",
        "##### The 10% and 5% critical values of GasPrice and ElecPrice of the resampled Data set to 4 decimal places, using the Augmented Dicky Fuller test (ADF)\n",
        "\n",
        "both can be obtained from single function"
      ]
    },
    {
      "cell_type": "code",
      "execution_count": 10,
      "metadata": {
        "id": "O231uHqseYTw"
      },
      "outputs": [],
      "source": [
        "from statsmodels.tsa.stattools import adfuller"
      ]
    },
    {
      "cell_type": "code",
      "execution_count": 11,
      "metadata": {
        "colab": {
          "base_uri": "https://localhost:8080/"
        },
        "id": "_Y4XwzdSeg9X",
        "outputId": "018af27a-9ae9-4d99-93c9-e8b3ceeaaf3e"
      },
      "outputs": [
        {
          "data": {
            "text/plain": [
              "(-3.6901589888366457,\n",
              " 0.004253725504574117,\n",
              " 30,\n",
              " 3803,\n",
              " {'1%': -3.432070672988693,\n",
              "  '5%': -2.8623002987378547,\n",
              "  '10%': -2.567174716967499},\n",
              " 79103.01504886392)"
            ]
          },
          "execution_count": 11,
          "metadata": {},
          "output_type": "execute_result"
        }
      ],
      "source": [
        "adfuller(df['SysLoad'])"
      ]
    },
    {
      "cell_type": "code",
      "execution_count": 12,
      "metadata": {
        "colab": {
          "base_uri": "https://localhost:8080/"
        },
        "id": "gRrEMNZCeg_u",
        "outputId": "49ccffd3-c6ba-4463-eba4-e0f8cb5875ff"
      },
      "outputs": [
        {
          "data": {
            "text/plain": [
              "(-2.90276669716518,\n",
              " 0.04502721288462542,\n",
              " 27,\n",
              " 3806,\n",
              " {'1%': -3.4320693157877544,\n",
              "  '5%': -2.8622996992165364,\n",
              "  '10%': -2.5671743978048323},\n",
              " 32857.5394299048)"
            ]
          },
          "execution_count": 12,
          "metadata": {},
          "output_type": "execute_result"
        }
      ],
      "source": [
        "adfuller(df['GasPrice'])"
      ]
    },
    {
      "cell_type": "markdown",
      "metadata": {
        "id": "6dxMej4ee5n_"
      },
      "source": [
        "Further Instructions (14-16)\n",
        "Using the daily sampling rate (sum), divide the data into a train and test set. The first 2757 days is your train set and the last (x-2757) days is your test set. Where x is the length of the dataset. Use Facebook Prophet to train a Univariate time series model using the FullDate column as (‘dt’ or ‘ds’) and ElecPrice as ( ‘y’). Answer question 14 - 16"
      ]
    },
    {
      "cell_type": "code",
      "execution_count": 13,
      "metadata": {
        "colab": {
          "base_uri": "https://localhost:8080/",
          "height": 206
        },
        "id": "oyxOGdvTfCL4",
        "outputId": "5d614981-20b7-445e-e44f-2ab387b7f638"
      },
      "outputs": [
        {
          "data": {
            "text/html": [
              "\n",
              "  <div id=\"df-e5f850cd-62f1-48f1-b198-96d08564d657\">\n",
              "    <div class=\"colab-df-container\">\n",
              "      <div>\n",
              "<style scoped>\n",
              "    .dataframe tbody tr th:only-of-type {\n",
              "        vertical-align: middle;\n",
              "    }\n",
              "\n",
              "    .dataframe tbody tr th {\n",
              "        vertical-align: top;\n",
              "    }\n",
              "\n",
              "    .dataframe thead th {\n",
              "        text-align: right;\n",
              "    }\n",
              "</style>\n",
              "<table border=\"1\" class=\"dataframe\">\n",
              "  <thead>\n",
              "    <tr style=\"text-align: right;\">\n",
              "      <th></th>\n",
              "      <th>ds</th>\n",
              "      <th>Tmax</th>\n",
              "      <th>SysLoad</th>\n",
              "      <th>GasPrice</th>\n",
              "      <th>y</th>\n",
              "    </tr>\n",
              "  </thead>\n",
              "  <tbody>\n",
              "    <tr>\n",
              "      <th>0</th>\n",
              "      <td>2010-09-01</td>\n",
              "      <td>379.2</td>\n",
              "      <td>41565.380</td>\n",
              "      <td>88.56</td>\n",
              "      <td>2751.700</td>\n",
              "    </tr>\n",
              "    <tr>\n",
              "      <th>1</th>\n",
              "      <td>2010-09-02</td>\n",
              "      <td>369.6</td>\n",
              "      <td>38898.990</td>\n",
              "      <td>88.56</td>\n",
              "      <td>570.810</td>\n",
              "    </tr>\n",
              "    <tr>\n",
              "      <th>2</th>\n",
              "      <td>2010-09-03</td>\n",
              "      <td>439.2</td>\n",
              "      <td>41665.760</td>\n",
              "      <td>106.80</td>\n",
              "      <td>504.975</td>\n",
              "    </tr>\n",
              "    <tr>\n",
              "      <th>3</th>\n",
              "      <td>2010-09-04</td>\n",
              "      <td>328.8</td>\n",
              "      <td>35638.085</td>\n",
              "      <td>81.36</td>\n",
              "      <td>502.275</td>\n",
              "    </tr>\n",
              "    <tr>\n",
              "      <th>4</th>\n",
              "      <td>2010-09-05</td>\n",
              "      <td>357.6</td>\n",
              "      <td>35611.410</td>\n",
              "      <td>106.80</td>\n",
              "      <td>500.555</td>\n",
              "    </tr>\n",
              "  </tbody>\n",
              "</table>\n",
              "</div>\n",
              "      <button class=\"colab-df-convert\" onclick=\"convertToInteractive('df-e5f850cd-62f1-48f1-b198-96d08564d657')\"\n",
              "              title=\"Convert this dataframe to an interactive table.\"\n",
              "              style=\"display:none;\">\n",
              "        \n",
              "  <svg xmlns=\"http://www.w3.org/2000/svg\" height=\"24px\"viewBox=\"0 0 24 24\"\n",
              "       width=\"24px\">\n",
              "    <path d=\"M0 0h24v24H0V0z\" fill=\"none\"/>\n",
              "    <path d=\"M18.56 5.44l.94 2.06.94-2.06 2.06-.94-2.06-.94-.94-2.06-.94 2.06-2.06.94zm-11 1L8.5 8.5l.94-2.06 2.06-.94-2.06-.94L8.5 2.5l-.94 2.06-2.06.94zm10 10l.94 2.06.94-2.06 2.06-.94-2.06-.94-.94-2.06-.94 2.06-2.06.94z\"/><path d=\"M17.41 7.96l-1.37-1.37c-.4-.4-.92-.59-1.43-.59-.52 0-1.04.2-1.43.59L10.3 9.45l-7.72 7.72c-.78.78-.78 2.05 0 2.83L4 21.41c.39.39.9.59 1.41.59.51 0 1.02-.2 1.41-.59l7.78-7.78 2.81-2.81c.8-.78.8-2.07 0-2.86zM5.41 20L4 18.59l7.72-7.72 1.47 1.35L5.41 20z\"/>\n",
              "  </svg>\n",
              "      </button>\n",
              "      \n",
              "  <style>\n",
              "    .colab-df-container {\n",
              "      display:flex;\n",
              "      flex-wrap:wrap;\n",
              "      gap: 12px;\n",
              "    }\n",
              "\n",
              "    .colab-df-convert {\n",
              "      background-color: #E8F0FE;\n",
              "      border: none;\n",
              "      border-radius: 50%;\n",
              "      cursor: pointer;\n",
              "      display: none;\n",
              "      fill: #1967D2;\n",
              "      height: 32px;\n",
              "      padding: 0 0 0 0;\n",
              "      width: 32px;\n",
              "    }\n",
              "\n",
              "    .colab-df-convert:hover {\n",
              "      background-color: #E2EBFA;\n",
              "      box-shadow: 0px 1px 2px rgba(60, 64, 67, 0.3), 0px 1px 3px 1px rgba(60, 64, 67, 0.15);\n",
              "      fill: #174EA6;\n",
              "    }\n",
              "\n",
              "    [theme=dark] .colab-df-convert {\n",
              "      background-color: #3B4455;\n",
              "      fill: #D2E3FC;\n",
              "    }\n",
              "\n",
              "    [theme=dark] .colab-df-convert:hover {\n",
              "      background-color: #434B5C;\n",
              "      box-shadow: 0px 1px 3px 1px rgba(0, 0, 0, 0.15);\n",
              "      filter: drop-shadow(0px 1px 2px rgba(0, 0, 0, 0.3));\n",
              "      fill: #FFFFFF;\n",
              "    }\n",
              "  </style>\n",
              "\n",
              "      <script>\n",
              "        const buttonEl =\n",
              "          document.querySelector('#df-e5f850cd-62f1-48f1-b198-96d08564d657 button.colab-df-convert');\n",
              "        buttonEl.style.display =\n",
              "          google.colab.kernel.accessAllowed ? 'block' : 'none';\n",
              "\n",
              "        async function convertToInteractive(key) {\n",
              "          const element = document.querySelector('#df-e5f850cd-62f1-48f1-b198-96d08564d657');\n",
              "          const dataTable =\n",
              "            await google.colab.kernel.invokeFunction('convertToInteractive',\n",
              "                                                     [key], {});\n",
              "          if (!dataTable) return;\n",
              "\n",
              "          const docLinkHtml = 'Like what you see? Visit the ' +\n",
              "            '<a target=\"_blank\" href=https://colab.research.google.com/notebooks/data_table.ipynb>data table notebook</a>'\n",
              "            + ' to learn more about interactive tables.';\n",
              "          element.innerHTML = '';\n",
              "          dataTable['output_type'] = 'display_data';\n",
              "          await google.colab.output.renderOutput(dataTable, element);\n",
              "          const docLink = document.createElement('div');\n",
              "          docLink.innerHTML = docLinkHtml;\n",
              "          element.appendChild(docLink);\n",
              "        }\n",
              "      </script>\n",
              "    </div>\n",
              "  </div>\n",
              "  "
            ],
            "text/plain": [
              "          ds   Tmax    SysLoad  GasPrice         y\n",
              "0 2010-09-01  379.2  41565.380     88.56  2751.700\n",
              "1 2010-09-02  369.6  38898.990     88.56   570.810\n",
              "2 2010-09-03  439.2  41665.760    106.80   504.975\n",
              "3 2010-09-04  328.8  35638.085     81.36   502.275\n",
              "4 2010-09-05  357.6  35611.410    106.80   500.555"
            ]
          },
          "execution_count": 13,
          "metadata": {},
          "output_type": "execute_result"
        }
      ],
      "source": [
        "df = df.rename({'FullDate':'ds', 'ElecPrice':'y'}, axis=1)  \n",
        "df.head()"
      ]
    },
    {
      "cell_type": "code",
      "execution_count": 14,
      "metadata": {
        "colab": {
          "base_uri": "https://localhost:8080/"
        },
        "id": "FQzCTAeqfD4m",
        "outputId": "ee791cfe-ec37-41c6-d14b-a1aa4a2b40b6"
      },
      "outputs": [
        {
          "data": {
            "text/plain": [
              "(3834, 5)"
            ]
          },
          "execution_count": 14,
          "metadata": {},
          "output_type": "execute_result"
        }
      ],
      "source": [
        "df.shape"
      ]
    },
    {
      "cell_type": "code",
      "execution_count": 15,
      "metadata": {
        "colab": {
          "base_uri": "https://localhost:8080/"
        },
        "id": "WERviMASfFdQ",
        "outputId": "9d82c947-1055-4b3c-f59c-487258dab674"
      },
      "outputs": [
        {
          "data": {
            "text/plain": [
              "1077"
            ]
          },
          "execution_count": 15,
          "metadata": {},
          "output_type": "execute_result"
        }
      ],
      "source": [
        "3834-2757"
      ]
    },
    {
      "cell_type": "code",
      "execution_count": 16,
      "metadata": {
        "id": "_dRhyc64fHE4"
      },
      "outputs": [],
      "source": [
        "train = df[0:2757]\n",
        "test  = df[2757:]"
      ]
    },
    {
      "cell_type": "code",
      "execution_count": 17,
      "metadata": {
        "colab": {
          "base_uri": "https://localhost:8080/"
        },
        "id": "2dxqGD4XfIpJ",
        "outputId": "ae9fad50-71a7-4894-a87a-d0dfca880c22"
      },
      "outputs": [
        {
          "data": {
            "text/plain": [
              "(2757, 5)"
            ]
          },
          "execution_count": 17,
          "metadata": {},
          "output_type": "execute_result"
        }
      ],
      "source": [
        "train.shape"
      ]
    },
    {
      "cell_type": "code",
      "execution_count": 18,
      "metadata": {
        "colab": {
          "base_uri": "https://localhost:8080/"
        },
        "id": "oSduX5TQfImY",
        "outputId": "e282f8be-7257-4276-b54e-7d9df3b30d3e"
      },
      "outputs": [
        {
          "data": {
            "text/plain": [
              "(1077, 5)"
            ]
          },
          "execution_count": 18,
          "metadata": {},
          "output_type": "execute_result"
        }
      ],
      "source": [
        "test.shape"
      ]
    },
    {
      "cell_type": "code",
      "execution_count": 19,
      "metadata": {
        "colab": {
          "base_uri": "https://localhost:8080/"
        },
        "id": "Q6FkyJbqiKqd",
        "outputId": "1116535c-a01b-4b26-c68f-933a9d57a46c"
      },
      "outputs": [
        {
          "name": "stderr",
          "output_type": "stream",
          "text": [
            "INFO:fbprophet:Disabling daily seasonality. Run prophet with daily_seasonality=True to override this.\n"
          ]
        },
        {
          "data": {
            "text/plain": [
              "<fbprophet.forecaster.Prophet at 0x7f9f1c4dd1d0>"
            ]
          },
          "execution_count": 19,
          "metadata": {},
          "output_type": "execute_result"
        }
      ],
      "source": [
        "from fbprophet import Prophet\n",
        "model=Prophet()\n",
        "model.fit(train)"
      ]
    },
    {
      "cell_type": "code",
      "execution_count": 20,
      "metadata": {
        "colab": {
          "base_uri": "https://localhost:8080/",
          "height": 357
        },
        "id": "Ip6IqbqMiKoZ",
        "outputId": "78f9229d-bc43-4a25-dbdc-a5ccdd897e80"
      },
      "outputs": [
        {
          "data": {
            "text/html": [
              "\n",
              "  <div id=\"df-3e4d8b99-57d7-44be-9126-f3ec0622238f\">\n",
              "    <div class=\"colab-df-container\">\n",
              "      <div>\n",
              "<style scoped>\n",
              "    .dataframe tbody tr th:only-of-type {\n",
              "        vertical-align: middle;\n",
              "    }\n",
              "\n",
              "    .dataframe tbody tr th {\n",
              "        vertical-align: top;\n",
              "    }\n",
              "\n",
              "    .dataframe thead th {\n",
              "        text-align: right;\n",
              "    }\n",
              "</style>\n",
              "<table border=\"1\" class=\"dataframe\">\n",
              "  <thead>\n",
              "    <tr style=\"text-align: right;\">\n",
              "      <th></th>\n",
              "      <th>ds</th>\n",
              "      <th>trend</th>\n",
              "      <th>yhat_lower</th>\n",
              "      <th>yhat_upper</th>\n",
              "      <th>trend_lower</th>\n",
              "      <th>trend_upper</th>\n",
              "      <th>additive_terms</th>\n",
              "      <th>additive_terms_lower</th>\n",
              "      <th>additive_terms_upper</th>\n",
              "      <th>weekly</th>\n",
              "      <th>weekly_lower</th>\n",
              "      <th>weekly_upper</th>\n",
              "      <th>yearly</th>\n",
              "      <th>yearly_lower</th>\n",
              "      <th>yearly_upper</th>\n",
              "      <th>multiplicative_terms</th>\n",
              "      <th>multiplicative_terms_lower</th>\n",
              "      <th>multiplicative_terms_upper</th>\n",
              "      <th>yhat</th>\n",
              "    </tr>\n",
              "  </thead>\n",
              "  <tbody>\n",
              "    <tr>\n",
              "      <th>0</th>\n",
              "      <td>2018-03-20</td>\n",
              "      <td>2691.764386</td>\n",
              "      <td>222.790655</td>\n",
              "      <td>4773.946488</td>\n",
              "      <td>2691.764386</td>\n",
              "      <td>2691.764386</td>\n",
              "      <td>-155.426892</td>\n",
              "      <td>-155.426892</td>\n",
              "      <td>-155.426892</td>\n",
              "      <td>9.749221</td>\n",
              "      <td>9.749221</td>\n",
              "      <td>9.749221</td>\n",
              "      <td>-165.176114</td>\n",
              "      <td>-165.176114</td>\n",
              "      <td>-165.176114</td>\n",
              "      <td>0.0</td>\n",
              "      <td>0.0</td>\n",
              "      <td>0.0</td>\n",
              "      <td>2536.337494</td>\n",
              "    </tr>\n",
              "    <tr>\n",
              "      <th>1</th>\n",
              "      <td>2018-03-21</td>\n",
              "      <td>2692.580955</td>\n",
              "      <td>348.802413</td>\n",
              "      <td>5168.530036</td>\n",
              "      <td>2692.580955</td>\n",
              "      <td>2692.580955</td>\n",
              "      <td>-2.925496</td>\n",
              "      <td>-2.925496</td>\n",
              "      <td>-2.925496</td>\n",
              "      <td>159.308129</td>\n",
              "      <td>159.308129</td>\n",
              "      <td>159.308129</td>\n",
              "      <td>-162.233625</td>\n",
              "      <td>-162.233625</td>\n",
              "      <td>-162.233625</td>\n",
              "      <td>0.0</td>\n",
              "      <td>0.0</td>\n",
              "      <td>0.0</td>\n",
              "      <td>2689.655459</td>\n",
              "    </tr>\n",
              "    <tr>\n",
              "      <th>2</th>\n",
              "      <td>2018-03-22</td>\n",
              "      <td>2693.397524</td>\n",
              "      <td>227.228506</td>\n",
              "      <td>5022.874028</td>\n",
              "      <td>2693.397524</td>\n",
              "      <td>2693.397524</td>\n",
              "      <td>95.308217</td>\n",
              "      <td>95.308217</td>\n",
              "      <td>95.308217</td>\n",
              "      <td>257.036327</td>\n",
              "      <td>257.036327</td>\n",
              "      <td>257.036327</td>\n",
              "      <td>-161.728110</td>\n",
              "      <td>-161.728110</td>\n",
              "      <td>-161.728110</td>\n",
              "      <td>0.0</td>\n",
              "      <td>0.0</td>\n",
              "      <td>0.0</td>\n",
              "      <td>2788.705741</td>\n",
              "    </tr>\n",
              "    <tr>\n",
              "      <th>3</th>\n",
              "      <td>2018-03-23</td>\n",
              "      <td>2694.214093</td>\n",
              "      <td>285.385204</td>\n",
              "      <td>4993.603900</td>\n",
              "      <td>2694.214093</td>\n",
              "      <td>2694.214093</td>\n",
              "      <td>-113.236873</td>\n",
              "      <td>-113.236873</td>\n",
              "      <td>-113.236873</td>\n",
              "      <td>50.257478</td>\n",
              "      <td>50.257478</td>\n",
              "      <td>50.257478</td>\n",
              "      <td>-163.494350</td>\n",
              "      <td>-163.494350</td>\n",
              "      <td>-163.494350</td>\n",
              "      <td>0.0</td>\n",
              "      <td>0.0</td>\n",
              "      <td>0.0</td>\n",
              "      <td>2580.977221</td>\n",
              "    </tr>\n",
              "    <tr>\n",
              "      <th>4</th>\n",
              "      <td>2018-03-24</td>\n",
              "      <td>2695.030663</td>\n",
              "      <td>60.212348</td>\n",
              "      <td>4590.429603</td>\n",
              "      <td>2695.030663</td>\n",
              "      <td>2695.030663</td>\n",
              "      <td>-438.662722</td>\n",
              "      <td>-438.662722</td>\n",
              "      <td>-438.662722</td>\n",
              "      <td>-271.372061</td>\n",
              "      <td>-271.372061</td>\n",
              "      <td>-271.372061</td>\n",
              "      <td>-167.290660</td>\n",
              "      <td>-167.290660</td>\n",
              "      <td>-167.290660</td>\n",
              "      <td>0.0</td>\n",
              "      <td>0.0</td>\n",
              "      <td>0.0</td>\n",
              "      <td>2256.367941</td>\n",
              "    </tr>\n",
              "  </tbody>\n",
              "</table>\n",
              "</div>\n",
              "      <button class=\"colab-df-convert\" onclick=\"convertToInteractive('df-3e4d8b99-57d7-44be-9126-f3ec0622238f')\"\n",
              "              title=\"Convert this dataframe to an interactive table.\"\n",
              "              style=\"display:none;\">\n",
              "        \n",
              "  <svg xmlns=\"http://www.w3.org/2000/svg\" height=\"24px\"viewBox=\"0 0 24 24\"\n",
              "       width=\"24px\">\n",
              "    <path d=\"M0 0h24v24H0V0z\" fill=\"none\"/>\n",
              "    <path d=\"M18.56 5.44l.94 2.06.94-2.06 2.06-.94-2.06-.94-.94-2.06-.94 2.06-2.06.94zm-11 1L8.5 8.5l.94-2.06 2.06-.94-2.06-.94L8.5 2.5l-.94 2.06-2.06.94zm10 10l.94 2.06.94-2.06 2.06-.94-2.06-.94-.94-2.06-.94 2.06-2.06.94z\"/><path d=\"M17.41 7.96l-1.37-1.37c-.4-.4-.92-.59-1.43-.59-.52 0-1.04.2-1.43.59L10.3 9.45l-7.72 7.72c-.78.78-.78 2.05 0 2.83L4 21.41c.39.39.9.59 1.41.59.51 0 1.02-.2 1.41-.59l7.78-7.78 2.81-2.81c.8-.78.8-2.07 0-2.86zM5.41 20L4 18.59l7.72-7.72 1.47 1.35L5.41 20z\"/>\n",
              "  </svg>\n",
              "      </button>\n",
              "      \n",
              "  <style>\n",
              "    .colab-df-container {\n",
              "      display:flex;\n",
              "      flex-wrap:wrap;\n",
              "      gap: 12px;\n",
              "    }\n",
              "\n",
              "    .colab-df-convert {\n",
              "      background-color: #E8F0FE;\n",
              "      border: none;\n",
              "      border-radius: 50%;\n",
              "      cursor: pointer;\n",
              "      display: none;\n",
              "      fill: #1967D2;\n",
              "      height: 32px;\n",
              "      padding: 0 0 0 0;\n",
              "      width: 32px;\n",
              "    }\n",
              "\n",
              "    .colab-df-convert:hover {\n",
              "      background-color: #E2EBFA;\n",
              "      box-shadow: 0px 1px 2px rgba(60, 64, 67, 0.3), 0px 1px 3px 1px rgba(60, 64, 67, 0.15);\n",
              "      fill: #174EA6;\n",
              "    }\n",
              "\n",
              "    [theme=dark] .colab-df-convert {\n",
              "      background-color: #3B4455;\n",
              "      fill: #D2E3FC;\n",
              "    }\n",
              "\n",
              "    [theme=dark] .colab-df-convert:hover {\n",
              "      background-color: #434B5C;\n",
              "      box-shadow: 0px 1px 3px 1px rgba(0, 0, 0, 0.15);\n",
              "      filter: drop-shadow(0px 1px 2px rgba(0, 0, 0, 0.3));\n",
              "      fill: #FFFFFF;\n",
              "    }\n",
              "  </style>\n",
              "\n",
              "      <script>\n",
              "        const buttonEl =\n",
              "          document.querySelector('#df-3e4d8b99-57d7-44be-9126-f3ec0622238f button.colab-df-convert');\n",
              "        buttonEl.style.display =\n",
              "          google.colab.kernel.accessAllowed ? 'block' : 'none';\n",
              "\n",
              "        async function convertToInteractive(key) {\n",
              "          const element = document.querySelector('#df-3e4d8b99-57d7-44be-9126-f3ec0622238f');\n",
              "          const dataTable =\n",
              "            await google.colab.kernel.invokeFunction('convertToInteractive',\n",
              "                                                     [key], {});\n",
              "          if (!dataTable) return;\n",
              "\n",
              "          const docLinkHtml = 'Like what you see? Visit the ' +\n",
              "            '<a target=\"_blank\" href=https://colab.research.google.com/notebooks/data_table.ipynb>data table notebook</a>'\n",
              "            + ' to learn more about interactive tables.';\n",
              "          element.innerHTML = '';\n",
              "          dataTable['output_type'] = 'display_data';\n",
              "          await google.colab.output.renderOutput(dataTable, element);\n",
              "          const docLink = document.createElement('div');\n",
              "          docLink.innerHTML = docLinkHtml;\n",
              "          element.appendChild(docLink);\n",
              "        }\n",
              "      </script>\n",
              "    </div>\n",
              "  </div>\n",
              "  "
            ],
            "text/plain": [
              "          ds        trend  yhat_lower   yhat_upper  trend_lower  trend_upper  \\\n",
              "0 2018-03-20  2691.764386  222.790655  4773.946488  2691.764386  2691.764386   \n",
              "1 2018-03-21  2692.580955  348.802413  5168.530036  2692.580955  2692.580955   \n",
              "2 2018-03-22  2693.397524  227.228506  5022.874028  2693.397524  2693.397524   \n",
              "3 2018-03-23  2694.214093  285.385204  4993.603900  2694.214093  2694.214093   \n",
              "4 2018-03-24  2695.030663   60.212348  4590.429603  2695.030663  2695.030663   \n",
              "\n",
              "   additive_terms  additive_terms_lower  additive_terms_upper      weekly  \\\n",
              "0     -155.426892           -155.426892           -155.426892    9.749221   \n",
              "1       -2.925496             -2.925496             -2.925496  159.308129   \n",
              "2       95.308217             95.308217             95.308217  257.036327   \n",
              "3     -113.236873           -113.236873           -113.236873   50.257478   \n",
              "4     -438.662722           -438.662722           -438.662722 -271.372061   \n",
              "\n",
              "   weekly_lower  weekly_upper      yearly  yearly_lower  yearly_upper  \\\n",
              "0      9.749221      9.749221 -165.176114   -165.176114   -165.176114   \n",
              "1    159.308129    159.308129 -162.233625   -162.233625   -162.233625   \n",
              "2    257.036327    257.036327 -161.728110   -161.728110   -161.728110   \n",
              "3     50.257478     50.257478 -163.494350   -163.494350   -163.494350   \n",
              "4   -271.372061   -271.372061 -167.290660   -167.290660   -167.290660   \n",
              "\n",
              "   multiplicative_terms  multiplicative_terms_lower  \\\n",
              "0                   0.0                         0.0   \n",
              "1                   0.0                         0.0   \n",
              "2                   0.0                         0.0   \n",
              "3                   0.0                         0.0   \n",
              "4                   0.0                         0.0   \n",
              "\n",
              "   multiplicative_terms_upper         yhat  \n",
              "0                         0.0  2536.337494  \n",
              "1                         0.0  2689.655459  \n",
              "2                         0.0  2788.705741  \n",
              "3                         0.0  2580.977221  \n",
              "4                         0.0  2256.367941  "
            ]
          },
          "execution_count": 20,
          "metadata": {},
          "output_type": "execute_result"
        }
      ],
      "source": [
        "pred = model.predict(test) \n",
        "pred.head()"
      ]
    },
    {
      "cell_type": "code",
      "execution_count": 21,
      "metadata": {
        "colab": {
          "base_uri": "https://localhost:8080/"
        },
        "id": "YrehYmTgiKl8",
        "outputId": "859ce5a3-a58f-436c-e0f7-bbd28aeca9ff"
      },
      "outputs": [
        {
          "data": {
            "text/plain": [
              "549.4751413716547"
            ]
          },
          "execution_count": 21,
          "metadata": {},
          "output_type": "execute_result"
        }
      ],
      "source": [
        "from sklearn import metrics\n",
        "def mean_absolute_percentage_error(y,y_pred):\n",
        "  y,y_pred = np.array(y), np.array(y_pred)\n",
        "  return np.mean(np.abs((y - y_pred)/y)) *100\n",
        "mape=mean_absolute_percentage_error(test['y'],pred['yhat'])\n",
        "mape"
      ]
    },
    {
      "cell_type": "code",
      "execution_count": 22,
      "metadata": {
        "colab": {
          "base_uri": "https://localhost:8080/"
        },
        "id": "qV96c5G8iKjr",
        "outputId": "01bc4f2d-0cb8-4c29-c634-b3c4136427b5"
      },
      "outputs": [
        {
          "data": {
            "text/plain": [
              "3218.16"
            ]
          },
          "execution_count": 22,
          "metadata": {},
          "output_type": "execute_result"
        }
      ],
      "source": [
        "rmse = round(np.sqrt(metrics.mean_squared_error(test['y'],pred['yhat'])), 2)\n",
        "rmse"
      ]
    },
    {
      "cell_type": "code",
      "execution_count": 34,
      "metadata": {
        "colab": {
          "base_uri": "https://localhost:8080/",
          "height": 1000
        },
        "id": "sm89fbGmiKhl",
        "outputId": "e2e07981-0a84-4ee2-ee7f-36665666c0bc"
      },
      "outputs": [
        {
          "data": {
            "image/png": "[encoded data removed]",
            "text/plain": [
              "<Figure size 648x648 with 3 Axes>"
            ]
          },
          "execution_count": 34,
          "metadata": {},
          "output_type": "execute_result"
        },
        {
          "data": {
            "image/png": "[encoded data removed]",
            "text/plain": [
              "<Figure size 648x648 with 3 Axes>"
            ]
          },
          "metadata": {},
          "output_type": "display_data"
        }
      ],
      "source": [
        "model.plot_components(pred)"
      ]
    },
    {
      "cell_type": "code",
      "execution_count": null,
      "metadata": {
        "id": "HRXLe8-JiKdt"
      },
      "outputs": [],
      "source": []
    },
    {
      "cell_type": "markdown",
      "metadata": {
        "id": "skBdThXQlagC"
      },
      "source": [
        "Multivariate Time Series Forecasting with Facebook Prophet\n",
        "\n",
        "In the last exercise, we used only the dependent variable (ElecPrice) and the time component for our modeling (ds vs y). Next, we will build a time series model using the other variables. These variables will be added to the forecast model as a regressor on Facebook Prophet. So the 3 independent variables [‘SysLoad’,’Tmax’,’GasPrice’'] will be [‘add1’, ‘add2’, ‘add3’’] as the regressors. Split the data into train and test as done above and build a multivariate forecast model to forecast the last x-2757 days of ElecPrice. Answer question 17-19:\n"
      ]
    },
    {
      "cell_type": "code",
      "execution_count": 23,
      "metadata": {
        "colab": {
          "base_uri": "https://localhost:8080/",
          "height": 206
        },
        "id": "X_IpkrCilH0W",
        "outputId": "f9e3ecb9-49be-48d3-fbc8-fb105b1df804"
      },
      "outputs": [
        {
          "data": {
            "text/html": [
              "\n",
              "  <div id=\"df-a33880dc-f3ce-4743-a94c-e959a29a1f56\">\n",
              "    <div class=\"colab-df-container\">\n",
              "      <div>\n",
              "<style scoped>\n",
              "    .dataframe tbody tr th:only-of-type {\n",
              "        vertical-align: middle;\n",
              "    }\n",
              "\n",
              "    .dataframe tbody tr th {\n",
              "        vertical-align: top;\n",
              "    }\n",
              "\n",
              "    .dataframe thead th {\n",
              "        text-align: right;\n",
              "    }\n",
              "</style>\n",
              "<table border=\"1\" class=\"dataframe\">\n",
              "  <thead>\n",
              "    <tr style=\"text-align: right;\">\n",
              "      <th></th>\n",
              "      <th>ds</th>\n",
              "      <th>Tmax</th>\n",
              "      <th>SysLoad</th>\n",
              "      <th>GasPrice</th>\n",
              "      <th>y</th>\n",
              "    </tr>\n",
              "  </thead>\n",
              "  <tbody>\n",
              "    <tr>\n",
              "      <th>0</th>\n",
              "      <td>2010-09-01</td>\n",
              "      <td>379.2</td>\n",
              "      <td>41565.380</td>\n",
              "      <td>88.56</td>\n",
              "      <td>2751.700</td>\n",
              "    </tr>\n",
              "    <tr>\n",
              "      <th>1</th>\n",
              "      <td>2010-09-02</td>\n",
              "      <td>369.6</td>\n",
              "      <td>38898.990</td>\n",
              "      <td>88.56</td>\n",
              "      <td>570.810</td>\n",
              "    </tr>\n",
              "    <tr>\n",
              "      <th>2</th>\n",
              "      <td>2010-09-03</td>\n",
              "      <td>439.2</td>\n",
              "      <td>41665.760</td>\n",
              "      <td>106.80</td>\n",
              "      <td>504.975</td>\n",
              "    </tr>\n",
              "    <tr>\n",
              "      <th>3</th>\n",
              "      <td>2010-09-04</td>\n",
              "      <td>328.8</td>\n",
              "      <td>35638.085</td>\n",
              "      <td>81.36</td>\n",
              "      <td>502.275</td>\n",
              "    </tr>\n",
              "    <tr>\n",
              "      <th>4</th>\n",
              "      <td>2010-09-05</td>\n",
              "      <td>357.6</td>\n",
              "      <td>35611.410</td>\n",
              "      <td>106.80</td>\n",
              "      <td>500.555</td>\n",
              "    </tr>\n",
              "  </tbody>\n",
              "</table>\n",
              "</div>\n",
              "      <button class=\"colab-df-convert\" onclick=\"convertToInteractive('df-a33880dc-f3ce-4743-a94c-e959a29a1f56')\"\n",
              "              title=\"Convert this dataframe to an interactive table.\"\n",
              "              style=\"display:none;\">\n",
              "        \n",
              "  <svg xmlns=\"http://www.w3.org/2000/svg\" height=\"24px\"viewBox=\"0 0 24 24\"\n",
              "       width=\"24px\">\n",
              "    <path d=\"M0 0h24v24H0V0z\" fill=\"none\"/>\n",
              "    <path d=\"M18.56 5.44l.94 2.06.94-2.06 2.06-.94-2.06-.94-.94-2.06-.94 2.06-2.06.94zm-11 1L8.5 8.5l.94-2.06 2.06-.94-2.06-.94L8.5 2.5l-.94 2.06-2.06.94zm10 10l.94 2.06.94-2.06 2.06-.94-2.06-.94-.94-2.06-.94 2.06-2.06.94z\"/><path d=\"M17.41 7.96l-1.37-1.37c-.4-.4-.92-.59-1.43-.59-.52 0-1.04.2-1.43.59L10.3 9.45l-7.72 7.72c-.78.78-.78 2.05 0 2.83L4 21.41c.39.39.9.59 1.41.59.51 0 1.02-.2 1.41-.59l7.78-7.78 2.81-2.81c.8-.78.8-2.07 0-2.86zM5.41 20L4 18.59l7.72-7.72 1.47 1.35L5.41 20z\"/>\n",
              "  </svg>\n",
              "      </button>\n",
              "      \n",
              "  <style>\n",
              "    .colab-df-container {\n",
              "      display:flex;\n",
              "      flex-wrap:wrap;\n",
              "      gap: 12px;\n",
              "    }\n",
              "\n",
              "    .colab-df-convert {\n",
              "      background-color: #E8F0FE;\n",
              "      border: none;\n",
              "      border-radius: 50%;\n",
              "      cursor: pointer;\n",
              "      display: none;\n",
              "      fill: #1967D2;\n",
              "      height: 32px;\n",
              "      padding: 0 0 0 0;\n",
              "      width: 32px;\n",
              "    }\n",
              "\n",
              "    .colab-df-convert:hover {\n",
              "      background-color: #E2EBFA;\n",
              "      box-shadow: 0px 1px 2px rgba(60, 64, 67, 0.3), 0px 1px 3px 1px rgba(60, 64, 67, 0.15);\n",
              "      fill: #174EA6;\n",
              "    }\n",
              "\n",
              "    [theme=dark] .colab-df-convert {\n",
              "      background-color: #3B4455;\n",
              "      fill: #D2E3FC;\n",
              "    }\n",
              "\n",
              "    [theme=dark] .colab-df-convert:hover {\n",
              "      background-color: #434B5C;\n",
              "      box-shadow: 0px 1px 3px 1px rgba(0, 0, 0, 0.15);\n",
              "      filter: drop-shadow(0px 1px 2px rgba(0, 0, 0, 0.3));\n",
              "      fill: #FFFFFF;\n",
              "    }\n",
              "  </style>\n",
              "\n",
              "      <script>\n",
              "        const buttonEl =\n",
              "          document.querySelector('#df-a33880dc-f3ce-4743-a94c-e959a29a1f56 button.colab-df-convert');\n",
              "        buttonEl.style.display =\n",
              "          google.colab.kernel.accessAllowed ? 'block' : 'none';\n",
              "\n",
              "        async function convertToInteractive(key) {\n",
              "          const element = document.querySelector('#df-a33880dc-f3ce-4743-a94c-e959a29a1f56');\n",
              "          const dataTable =\n",
              "            await google.colab.kernel.invokeFunction('convertToInteractive',\n",
              "                                                     [key], {});\n",
              "          if (!dataTable) return;\n",
              "\n",
              "          const docLinkHtml = 'Like what you see? Visit the ' +\n",
              "            '<a target=\"_blank\" href=https://colab.research.google.com/notebooks/data_table.ipynb>data table notebook</a>'\n",
              "            + ' to learn more about interactive tables.';\n",
              "          element.innerHTML = '';\n",
              "          dataTable['output_type'] = 'display_data';\n",
              "          await google.colab.output.renderOutput(dataTable, element);\n",
              "          const docLink = document.createElement('div');\n",
              "          docLink.innerHTML = docLinkHtml;\n",
              "          element.appendChild(docLink);\n",
              "        }\n",
              "      </script>\n",
              "    </div>\n",
              "  </div>\n",
              "  "
            ],
            "text/plain": [
              "          ds   Tmax    SysLoad  GasPrice         y\n",
              "0 2010-09-01  379.2  41565.380     88.56  2751.700\n",
              "1 2010-09-02  369.6  38898.990     88.56   570.810\n",
              "2 2010-09-03  439.2  41665.760    106.80   504.975\n",
              "3 2010-09-04  328.8  35638.085     81.36   502.275\n",
              "4 2010-09-05  357.6  35611.410    106.80   500.555"
            ]
          },
          "execution_count": 23,
          "metadata": {},
          "output_type": "execute_result"
        }
      ],
      "source": [
        "df.head()"
      ]
    },
    {
      "cell_type": "code",
      "execution_count": 47,
      "metadata": {
        "colab": {
          "base_uri": "https://localhost:8080/",
          "height": 206
        },
        "id": "1i-svFUjlH4M",
        "outputId": "de384659-c4da-42f5-e521-17e53b2b5a83"
      },
      "outputs": [
        {
          "data": {
            "text/html": [
              "\n",
              "  <div id=\"df-717e073c-d369-4c53-b35b-e8e5d2a8286f\">\n",
              "    <div class=\"colab-df-container\">\n",
              "      <div>\n",
              "<style scoped>\n",
              "    .dataframe tbody tr th:only-of-type {\n",
              "        vertical-align: middle;\n",
              "    }\n",
              "\n",
              "    .dataframe tbody tr th {\n",
              "        vertical-align: top;\n",
              "    }\n",
              "\n",
              "    .dataframe thead th {\n",
              "        text-align: right;\n",
              "    }\n",
              "</style>\n",
              "<table border=\"1\" class=\"dataframe\">\n",
              "  <thead>\n",
              "    <tr style=\"text-align: right;\">\n",
              "      <th></th>\n",
              "      <th>ds</th>\n",
              "      <th>add2</th>\n",
              "      <th>add1</th>\n",
              "      <th>add3</th>\n",
              "      <th>y</th>\n",
              "    </tr>\n",
              "  </thead>\n",
              "  <tbody>\n",
              "    <tr>\n",
              "      <th>0</th>\n",
              "      <td>2010-09-01</td>\n",
              "      <td>379.2</td>\n",
              "      <td>41565.380</td>\n",
              "      <td>88.56</td>\n",
              "      <td>2751.700</td>\n",
              "    </tr>\n",
              "    <tr>\n",
              "      <th>1</th>\n",
              "      <td>2010-09-02</td>\n",
              "      <td>369.6</td>\n",
              "      <td>38898.990</td>\n",
              "      <td>88.56</td>\n",
              "      <td>570.810</td>\n",
              "    </tr>\n",
              "    <tr>\n",
              "      <th>2</th>\n",
              "      <td>2010-09-03</td>\n",
              "      <td>439.2</td>\n",
              "      <td>41665.760</td>\n",
              "      <td>106.80</td>\n",
              "      <td>504.975</td>\n",
              "    </tr>\n",
              "    <tr>\n",
              "      <th>3</th>\n",
              "      <td>2010-09-04</td>\n",
              "      <td>328.8</td>\n",
              "      <td>35638.085</td>\n",
              "      <td>81.36</td>\n",
              "      <td>502.275</td>\n",
              "    </tr>\n",
              "    <tr>\n",
              "      <th>4</th>\n",
              "      <td>2010-09-05</td>\n",
              "      <td>357.6</td>\n",
              "      <td>35611.410</td>\n",
              "      <td>106.80</td>\n",
              "      <td>500.555</td>\n",
              "    </tr>\n",
              "  </tbody>\n",
              "</table>\n",
              "</div>\n",
              "      <button class=\"colab-df-convert\" onclick=\"convertToInteractive('df-717e073c-d369-4c53-b35b-e8e5d2a8286f')\"\n",
              "              title=\"Convert this dataframe to an interactive table.\"\n",
              "              style=\"display:none;\">\n",
              "        \n",
              "  <svg xmlns=\"http://www.w3.org/2000/svg\" height=\"24px\"viewBox=\"0 0 24 24\"\n",
              "       width=\"24px\">\n",
              "    <path d=\"M0 0h24v24H0V0z\" fill=\"none\"/>\n",
              "    <path d=\"M18.56 5.44l.94 2.06.94-2.06 2.06-.94-2.06-.94-.94-2.06-.94 2.06-2.06.94zm-11 1L8.5 8.5l.94-2.06 2.06-.94-2.06-.94L8.5 2.5l-.94 2.06-2.06.94zm10 10l.94 2.06.94-2.06 2.06-.94-2.06-.94-.94-2.06-.94 2.06-2.06.94z\"/><path d=\"M17.41 7.96l-1.37-1.37c-.4-.4-.92-.59-1.43-.59-.52 0-1.04.2-1.43.59L10.3 9.45l-7.72 7.72c-.78.78-.78 2.05 0 2.83L4 21.41c.39.39.9.59 1.41.59.51 0 1.02-.2 1.41-.59l7.78-7.78 2.81-2.81c.8-.78.8-2.07 0-2.86zM5.41 20L4 18.59l7.72-7.72 1.47 1.35L5.41 20z\"/>\n",
              "  </svg>\n",
              "      </button>\n",
              "      \n",
              "  <style>\n",
              "    .colab-df-container {\n",
              "      display:flex;\n",
              "      flex-wrap:wrap;\n",
              "      gap: 12px;\n",
              "    }\n",
              "\n",
              "    .colab-df-convert {\n",
              "      background-color: #E8F0FE;\n",
              "      border: none;\n",
              "      border-radius: 50%;\n",
              "      cursor: pointer;\n",
              "      display: none;\n",
              "      fill: #1967D2;\n",
              "      height: 32px;\n",
              "      padding: 0 0 0 0;\n",
              "      width: 32px;\n",
              "    }\n",
              "\n",
              "    .colab-df-convert:hover {\n",
              "      background-color: #E2EBFA;\n",
              "      box-shadow: 0px 1px 2px rgba(60, 64, 67, 0.3), 0px 1px 3px 1px rgba(60, 64, 67, 0.15);\n",
              "      fill: #174EA6;\n",
              "    }\n",
              "\n",
              "    [theme=dark] .colab-df-convert {\n",
              "      background-color: #3B4455;\n",
              "      fill: #D2E3FC;\n",
              "    }\n",
              "\n",
              "    [theme=dark] .colab-df-convert:hover {\n",
              "      background-color: #434B5C;\n",
              "      box-shadow: 0px 1px 3px 1px rgba(0, 0, 0, 0.15);\n",
              "      filter: drop-shadow(0px 1px 2px rgba(0, 0, 0, 0.3));\n",
              "      fill: #FFFFFF;\n",
              "    }\n",
              "  </style>\n",
              "\n",
              "      <script>\n",
              "        const buttonEl =\n",
              "          document.querySelector('#df-717e073c-d369-4c53-b35b-e8e5d2a8286f button.colab-df-convert');\n",
              "        buttonEl.style.display =\n",
              "          google.colab.kernel.accessAllowed ? 'block' : 'none';\n",
              "\n",
              "        async function convertToInteractive(key) {\n",
              "          const element = document.querySelector('#df-717e073c-d369-4c53-b35b-e8e5d2a8286f');\n",
              "          const dataTable =\n",
              "            await google.colab.kernel.invokeFunction('convertToInteractive',\n",
              "                                                     [key], {});\n",
              "          if (!dataTable) return;\n",
              "\n",
              "          const docLinkHtml = 'Like what you see? Visit the ' +\n",
              "            '<a target=\"_blank\" href=https://colab.research.google.com/notebooks/data_table.ipynb>data table notebook</a>'\n",
              "            + ' to learn more about interactive tables.';\n",
              "          element.innerHTML = '';\n",
              "          dataTable['output_type'] = 'display_data';\n",
              "          await google.colab.output.renderOutput(dataTable, element);\n",
              "          const docLink = document.createElement('div');\n",
              "          docLink.innerHTML = docLinkHtml;\n",
              "          element.appendChild(docLink);\n",
              "        }\n",
              "      </script>\n",
              "    </div>\n",
              "  </div>\n",
              "  "
            ],
            "text/plain": [
              "          ds   add2       add1    add3         y\n",
              "0 2010-09-01  379.2  41565.380   88.56  2751.700\n",
              "1 2010-09-02  369.6  38898.990   88.56   570.810\n",
              "2 2010-09-03  439.2  41665.760  106.80   504.975\n",
              "3 2010-09-04  328.8  35638.085   81.36   502.275\n",
              "4 2010-09-05  357.6  35611.410  106.80   500.555"
            ]
          },
          "execution_count": 47,
          "metadata": {},
          "output_type": "execute_result"
        }
      ],
      "source": [
        "df = df.rename({ 'SysLoad':'add1','Tmax':'add2', 'GasPrice':'add3'}, axis=1)\n",
        "df.head()"
      ]
    },
    {
      "cell_type": "code",
      "execution_count": 48,
      "metadata": {
        "id": "6DtqfmNvlH6r"
      },
      "outputs": [],
      "source": [
        "train = df[0:2757]\n",
        "test  = df[2757:]"
      ]
    },
    {
      "cell_type": "code",
      "execution_count": 49,
      "metadata": {
        "colab": {
          "base_uri": "https://localhost:8080/"
        },
        "id": "4DhzI3SAiKXE",
        "outputId": "e76e3492-912c-46d8-f529-72c83a9eb5bb"
      },
      "outputs": [
        {
          "data": {
            "text/plain": [
              "<fbprophet.forecaster.Prophet at 0x7f9f19a173d0>"
            ]
          },
          "execution_count": 49,
          "metadata": {},
          "output_type": "execute_result"
        }
      ],
      "source": [
        "model2 = Prophet()\n",
        "model2.add_regressor('add1')\n",
        "model2.add_regressor('add2')\n",
        "model2.add_regressor('add3')"
      ]
    },
    {
      "cell_type": "code",
      "execution_count": 50,
      "metadata": {
        "colab": {
          "base_uri": "https://localhost:8080/"
        },
        "id": "w4svr7uQnE3U",
        "outputId": "46ee69e7-0546-49c6-b7d6-3f3c0f0131da"
      },
      "outputs": [
        {
          "name": "stderr",
          "output_type": "stream",
          "text": [
            "INFO:fbprophet:Disabling daily seasonality. Run prophet with daily_seasonality=True to override this.\n"
          ]
        },
        {
          "data": {
            "text/plain": [
              "<fbprophet.forecaster.Prophet at 0x7f9f19a173d0>"
            ]
          },
          "execution_count": 50,
          "metadata": {},
          "output_type": "execute_result"
        }
      ],
      "source": [
        "model2.fit(train)"
      ]
    },
    {
      "cell_type": "code",
      "execution_count": 51,
      "metadata": {
        "id": "SbeJzxTCnE7O"
      },
      "outputs": [],
      "source": [
        "pred = model2.predict(test)"
      ]
    },
    {
      "cell_type": "code",
      "execution_count": 52,
      "metadata": {
        "colab": {
          "base_uri": "https://localhost:8080/"
        },
        "id": "hcBvT08Cnfxy",
        "outputId": "7db9337a-4c54-4a4d-858d-bb4fff7fd098"
      },
      "outputs": [
        {
          "data": {
            "text/plain": [
              "231.28067149407525"
            ]
          },
          "execution_count": 52,
          "metadata": {},
          "output_type": "execute_result"
        }
      ],
      "source": [
        "def mean_absolute_percentage_error(y,y_pred):\n",
        "  y,y_pred = np.array(y), np.array(y_pred)\n",
        "  return np.mean(np.abs((y - y_pred)/y)) *100\n",
        "mape=mean_absolute_percentage_error(test['y'],pred['yhat'])\n",
        "mape"
      ]
    },
    {
      "cell_type": "code",
      "execution_count": 53,
      "metadata": {
        "colab": {
          "base_uri": "https://localhost:8080/"
        },
        "id": "v4SBjC0ynYlM",
        "outputId": "be4d85c6-42c4-4ff0-9f06-cb82dfbe694c"
      },
      "outputs": [
        {
          "data": {
            "text/plain": [
              "2706.92"
            ]
          },
          "execution_count": 53,
          "metadata": {},
          "output_type": "execute_result"
        }
      ],
      "source": [
        "rmse = round(np.sqrt(metrics.mean_squared_error(test['y'],pred['yhat'])), 2)\n",
        "rmse"
      ]
    },
    {
      "cell_type": "code",
      "execution_count": 54,
      "metadata": {
        "colab": {
          "base_uri": "https://localhost:8080/",
          "height": 1000
        },
        "id": "oZdFYXfQnYni",
        "outputId": "91506eb2-287b-4e0c-e3ba-20bf2815b805"
      },
      "outputs": [
        {
          "data": {
            "image/png": "[encoded data removed]",
            "text/plain": [
              "<Figure size 648x648 with 3 Axes>"
            ]
          },
          "execution_count": 54,
          "metadata": {},
          "output_type": "execute_result"
        },
        {
          "data": {
            "image/png": "[encoded data removed]",
            "text/plain": [
              "<Figure size 648x648 with 3 Axes>"
            ]
          },
          "metadata": {},
          "output_type": "display_data"
        }
      ],
      "source": [
        "model.plot_components(pred)"
      ]
    },
    {
      "cell_type": "code",
      "execution_count": 55,
      "metadata": {
        "colab": {
          "base_uri": "https://localhost:8080/"
        },
        "id": "Fh2bqlehnYqJ",
        "outputId": "6ee7f3ba-7536-40ae-c78a-d33d2b773f1c"
      },
      "outputs": [
        {
          "name": "stderr",
          "output_type": "stream",
          "text": [
            "INFO:fbprophet:Disabling daily seasonality. Run prophet with daily_seasonality=True to override this.\n"
          ]
        }
      ],
      "source": [
        "model3 = Prophet()\n",
        "model3.add_regressor('add1')\n",
        "model3.add_regressor('add3')\n",
        "\n",
        "model3.fit(train)\n",
        "pred = model3.predict(test)"
      ]
    },
    {
      "cell_type": "code",
      "execution_count": 56,
      "metadata": {
        "colab": {
          "base_uri": "https://localhost:8080/"
        },
        "id": "xd_u6g1DnYsi",
        "outputId": "6519ea8b-ee76-4ebd-c86d-22a1f70a47ec"
      },
      "outputs": [
        {
          "data": {
            "text/plain": [
              "233.7211726531121"
            ]
          },
          "execution_count": 56,
          "metadata": {},
          "output_type": "execute_result"
        }
      ],
      "source": [
        "mape=mean_absolute_percentage_error(test['y'],pred['yhat'])\n",
        "mape"
      ]
    },
    {
      "cell_type": "code",
      "execution_count": null,
      "metadata": {
        "id": "iWIx3BIrnYur"
      },
      "outputs": [],
      "source": []
    }
  ],
  "metadata": {
    "colab": {
      "provenance": []
    },
    "kernelspec": {
      "display_name": "Python 3",
      "name": "python3"
    },
    "language_info": {
      "name": "python"
    }
  },
  "nbformat": 4,
  "nbformat_minor": 0
}
